{
 "cells": [
  {
   "cell_type": "markdown",
   "metadata": {},
   "source": [
    "Treinamento de Python 3.6\n",
    "=============\n",
    "Unitec Semicondutores\n",
    "---------------------------\n",
    "#### Felipe Oliveira - felipe.oliveira@unitecgroup.net\n",
    "#### Novembro 2017\n",
    "\n",
    "\n",
    "Introdução à Programação em Python\n",
    "------------------------------------\n",
    "\n",
    "Nesta aula será dada uma introdução à lógica de programação básica, aplicando os conceitos na linguagem Python 3.6.\n",
    "\n",
    "Assume-se que os seguintes softwares já estão instalados e configurados corretamente:\n",
    "* Anaconda3 - Distribuição de Python 3.6 com praticamente todos os pacotes necessários para Data Science\n",
    "* Jupyter Notebooks - Ambiente de programação em Web-Browser que permite o teste e execução de blocos de código iterativamente\n",
    "\n",
    "O escopo desta seção inclui os seguintes tópicos:\n",
    "\n",
    "1. Sintaxe Básica e Características da Linguagem\n",
    "2. Tipos de Variáveis\n",
    "3. Operações Matemáticas, Operadores Típicos e Conversão de Variáveis\n",
    "4. Loops e Condicionais\n",
    "5. Declaração de Funções\n",
    "6. Indexação de Iteráveis\n",
    "7. Manipulação de Strings\n",
    "8. Manipulação de Arquivos\n",
    "9. Módulos, Pacotes e Bibliotecas Externas\n",
    "\n",
    "Na seção seguinte serão abordadas as funcionalidades específicas de módulos apropriados para estruturação, análise e visualização de dados. Especificamente, serão abordadas as seguintes bibliotecas:\n",
    "\n",
    "* Numpy\n",
    "* Pandas\n",
    "* Scipy\n",
    "* Matplotlib\n",
    "* Seaborn\n"
   ]
  },
  {
   "cell_type": "markdown",
   "metadata": {},
   "source": [
    "## 1. Sintaxe Básica e Características da Linguagem\n",
    "\n",
    "Python é uma linguagem de programação orientada a objetos de alto nível, open source e completamente gratuita, com sintaxe simples de fácil leitura, permitindo a realização de tarefas complexas em poucas linhas de código. Possui uma comunidade ativa de usuários realizando correções, atualizações e criação de novos módulos e funcionalidades.\n",
    "Nos últimos anos houve um grande crescimento da aderência à linguagem, e as funcionalidades tem se expandido para praticamente todas as áreas da programação, tendo ferramentas de alto nível para realização de projetos de desenvolvimento web, análise estatística e visualização de dados, cálculos numéricos e matemática simbólica, manipulação de sinais, desenvolvimento de software com interface gráfica, web-scrapping, computer-vision, machine learning, e muitas outras.\n",
    "A ampla disponibilidade de módulos variados e a enorme comunidade ativa de usuários faz com que Python seja uma das melhores linguagens para se aprender, independente da área de aplicação.\n",
    "\n",
    "### Conceitos Importantes sobre a Linguagem\n",
    "\n",
    "Python é Case-Sensitive, o que significa que a capitalização das letras é importante. Ou seja, se um módulo/função/variável tiver o nome 'Foo', ela é diferente de 'foo', ou 'fOo'. É preciso tomar cuidado com estas definições e atentar para capitalização correta dos módulos, funções e variáveis definidos.\n",
    "\n",
    "Em Python a indentação do texto é importante. Enquanto em outras linguagens a indentação é só um aspecto estético e de boa prática, em python a indentação define a estruturação do código e caso não esteja coerente erros de sintaxe irão ocorrer. Esta questão ficará clara nos exemplos práticos vistos mais adiante no curso.\n",
    "\n",
    "Diferentemente de C, o código em Python não é compilado previamente antes da execução. Cada linha é compilada e executada dinamicamente, de modo que se houverem erros (que não sejam de sintaxe, a sintaxe do código inteiro é conferida antes do começo da execução) em uma linha, todas as linhas anteriores serão executados e os resultados da execução destas linhas é mostrado. Por este motivo, Python é uma linguagem Interpretada, em contrapartida com C que é uma linguagem Compilada. Esta característica permite com que o usuário teste e execute uma linha por vez, iterativamente em um terminal de comandos. As definições de variáveis realizadas previamente ficam salvas e é possível testar linhas, comandos e pequenos trechos de código dinamicamente em tempo real, sem a necessidade de compilação.\n",
    "\n",
    "O Jupyter Notebook, ferramenta utilizada para este curso, faz uso desta característica de código interpretável e a estende com a possibilidade de execução de blocos de código dinamicamente e a qualquer ordem. Além disso o Jupyter permite a visualização de gráficos e iteratividade com diversos módulos, sendo particularmente útil para a exploração e apresentação de dados.\n",
    "\n"
   ]
  },
  {
   "cell_type": "code",
   "execution_count": 3,
   "metadata": {},
   "outputs": [
    {
     "name": "stdout",
     "output_type": "stream",
     "text": [
      "Help on built-in function print in module builtins:\n",
      "\n",
      "print(...)\n",
      "    print(value, ..., sep=' ', end='\\n', file=sys.stdout, flush=False)\n",
      "    \n",
      "    Prints the values to a stream, or to sys.stdout by default.\n",
      "    Optional keyword arguments:\n",
      "    file:  a file-like object (stream); defaults to the current sys.stdout.\n",
      "    sep:   string inserted between values, default a space.\n",
      "    end:   string appended after the last value, default a newline.\n",
      "    flush: whether to forcibly flush the stream.\n",
      "\n"
     ]
    }
   ],
   "source": [
    "# Em python os comentários, trechos de texto contidos no código que não são executados, são definidos\n",
    "# com o caractere '#' precedendo o texto.\n",
    "# É uma boa prática de programação sempre comentar o código\n",
    "\n",
    "# Durante o curso eles serão utilizados para a explicação dos conceitos e funções vistas.\n",
    "\n",
    "# Para obter informações sobre qualquer objeto/módulo/função/método pode-se usar a função help\n",
    "\n",
    "# Em Python os argumentos de uma função sempre são escritos entre '()', seguindo imediatamente o nome da função\n",
    "# chamada. Se mais de um argumento é requerido eles devem estar separados por ','.\n",
    "# Exemplo de chamada da função help para obtenção da documentação de como usar a função print\n",
    "\n",
    "help(print)"
   ]
  },
  {
   "cell_type": "code",
   "execution_count": 7,
   "metadata": {},
   "outputs": [
    {
     "name": "stdout",
     "output_type": "stream",
     "text": [
      "Hello World!______Other print...\n"
     ]
    }
   ],
   "source": [
    "# Note que a saída da chamada da função help é o texto de documentação da função que se deseja obter informações.\n",
    "# Normalmente se atenta para quais os argumentos necessários para usar a função, isto é, as entradas colocadas entre os \n",
    "# parênteses, e qual a saída da função, ou o que ela realiza.\n",
    "\n",
    "# Obs: A função print imprime na tela o conteúdo da variável passada para ela. Ela só precisa de um argumento, no entanto, como\n",
    "# é possível ver na documentação, ela possui vários outros argumentos opcionais. É possível ver que os outros argumentos são\n",
    "# opcionais pois um valor predefinido, padrão, já foi estabelecido para estes argumentos. Por exemplo, o argumento 'sep' padrão\n",
    "# foi definido como ' ', que é um espaço\n",
    "# É possível realizar a chamada da função e especificar outro valor para este argumento, da seguinte maneira:\n",
    "\n",
    "print('Hello World!', 'Other print...', sep='______')\n",
    "\n",
    "# Note que a função permite a impressão de um número qualquer de variáveis, separadas devidamente por ',', e o argumento\n",
    "# 'sep' irá definir como as diferentes variáveis passadas para a função estarão separadas.\n"
   ]
  },
  {
   "cell_type": "markdown",
   "metadata": {},
   "source": [
    "## 2. Tipos de Variáveis\n",
    "\n",
    "Python é uma linguagem fortemente tipada dinâmica (Dynamic Strong Typed), o que significa que não é necessário definir o tipo de uma variável a priori, mas uma vez que um determinado tipo de dados for associado aquela variável ela irá manter aquele tipo, a menos que uma nova atribuição seja feita.\n",
    "Este conceito irá ficar claro nos próximos exemplos.\n",
    "\n",
    "Existem diversos tipos de variáveis, adequados para a representação de diferentes estruturas de dados. Os tipos básicos são os seguintes:\n",
    "* Números Inteiros (int)\n",
    "* Números Reais (decimal/ponto flutuante, float)\n",
    "* Texto/Caractere (string, str)\n",
    "* Booleano (True ou False, bool)\n",
    "* Iteráveis (iterables: list, tuple, dict, set)\n",
    "\n",
    "Os iteráveis são variáveis \"especiais\" que permitem o armazenamento de múltiplos itens de qualquer outro tipo. Por exemplo, pode-se ter uma lista contendo um número arbitrariamente grande de inteiros, e chama-se de iterável pois é possível iterar por esta lista, elemento a elemento, recuperando o valor associado a cada posição da mesma.\n",
    "Os tipos de iteráveis comumente utilizados em python são os seguintes:\n",
    "\n",
    "* Lista (list) - Mutável e Ordenado, permite a adição de inúmeras varáveis de qualquer tipo (incluindo outras listas)\n",
    "* Tuple (tuple) - Imutável e Ordenado. Uma vez criada não é possível adicionar ou remover itens. Também permite o armazenamento de inúmeras variáveis de qualquer tipo.\n",
    "* Set (set) - Mutável e não ordenado, porém não permite a adição de elementos repetidos.\n",
    "* Dicionário (dict) - Mutável, não ordenado e indexado por \"chaves\" (keys). Permite a associação de um valor com uma chave que o identifica. Por exemplo, em uma tabela, pode-se colocar o nome de uma coluna como uma chave e associar como valor à esta chave a lista de elementos contidos naquela coluna.\n",
    "\n",
    "A frente serão dados exemplos de sintaxe e uso destes tipos de variáveis.\n"
   ]
  },
  {
   "cell_type": "markdown",
   "metadata": {},
   "source": [
    "### Nomeclatura Válida\n",
    "\n",
    "Algumas regras quanto a nomeação de variáveis, módulos e funções devem ser observadas. \n",
    "* O primeiro caractere de uma variável deve sempre ser uma letra, ou seja, variáveis começando com números ou caracteres especiais não são válidas. Uma exceção notável são funções e variáveis começando com '_', que tem um significado especial que foge ao escopo deste curso. \n",
    "* Variáveis não podem conter espaço separando o nome. Portanto 'minha variavel' não é um nome válido. Por convenção, utiliza-se o '_' para separar variáveis com nome composto: 'minha_variavel'.\n",
    "* Caracteres não ASCII podem ser usados mas não é uma boa prática. Exemplo, '´','~', 'ç', etc devem ser evitados.\n",
    "* Por convenção, nomes de variáveis começam com letra minúscula e nomes compostos são separados por '_'. Nomes de classes começam com letra maiúscula e são separados por capitalização. Exemplo: 'minha_variavel', 'MinhaClasse'.\n",
    "\n",
    "É importante observar que o nome das variáveis deve ser escolhido adequadamente, sendo completo o suficiente para indicar a função/objetivo/tipo da variável, mas sucinto para facilitar a leitura e a digitação.\n"
   ]
  },
  {
   "cell_type": "code",
   "execution_count": 36,
   "metadata": {
    "collapsed": true
   },
   "outputs": [],
   "source": [
    "# Nomeclatura\n",
    "minha_variavel = 'Ok'"
   ]
  },
  {
   "cell_type": "code",
   "execution_count": 38,
   "metadata": {},
   "outputs": [
    {
     "ename": "SyntaxError",
     "evalue": "invalid syntax (<ipython-input-38-9059df83650b>, line 2)",
     "output_type": "error",
     "traceback": [
      "\u001b[1;36m  File \u001b[1;32m\"<ipython-input-38-9059df83650b>\"\u001b[1;36m, line \u001b[1;32m2\u001b[0m\n\u001b[1;33m    vai dar errro = 'Nop...'\u001b[0m\n\u001b[1;37m          ^\u001b[0m\n\u001b[1;31mSyntaxError\u001b[0m\u001b[1;31m:\u001b[0m invalid syntax\n"
     ]
    }
   ],
   "source": [
    "não = 'Nop!'\n",
    "vai dar errro = 'Nop...'\n",
    "1erro = 'Isso vai gerar um erro de Sintaxe!'"
   ]
  },
  {
   "cell_type": "code",
   "execution_count": 39,
   "metadata": {
    "collapsed": true
   },
   "outputs": [],
   "source": [
    "assim_nao_tem_erro = 'Nome válido'\n",
    "assim_tb_2_1_3_4_56_pode = 'Nome válido'"
   ]
  },
  {
   "cell_type": "markdown",
   "metadata": {},
   "source": [
    "### Indentação\n",
    "\n",
    "Como mencionado anteriormente, a indentação do texto em Python é muito importante e erros de sintaxe podem ocorrer se não for realizada adequadamente. Isto ficará mais evidente nas seções relativas a Loops, Condicionais e declaração de funções, no entanto um breve exemplo será dado a seguir para estressar o quão crítico é a observância das regras de indentação."
   ]
  },
  {
   "cell_type": "code",
   "execution_count": 1,
   "metadata": {},
   "outputs": [
    {
     "ename": "IndentationError",
     "evalue": "unexpected indent (<ipython-input-1-43aed34c47fd>, line 4)",
     "output_type": "error",
     "traceback": [
      "\u001b[1;36m  File \u001b[1;32m\"<ipython-input-1-43aed34c47fd>\"\u001b[1;36m, line \u001b[1;32m4\u001b[0m\n\u001b[1;33m    var2 = 'Indentação inadequada'\u001b[0m\n\u001b[1;37m    ^\u001b[0m\n\u001b[1;31mIndentationError\u001b[0m\u001b[1;31m:\u001b[0m unexpected indent\n"
     ]
    }
   ],
   "source": [
    "# O espaço padrão utilizado para indentação de blocos em Python é uma tabulação (Tab) de 4 espaços\n",
    "var1 = 'Exemplo'\n",
    "# neste caso haverá um erro, pois a indentação não é ncessária\n",
    "    var2 = 'Indentação inadequada'"
   ]
  },
  {
   "cell_type": "code",
   "execution_count": 2,
   "metadata": {
    "collapsed": true
   },
   "outputs": [],
   "source": [
    "# se for definido um bloco de uma função, por exmemplo, é necessário indentar todo o conteúdo relativo aquele bloco\n",
    "def minha_funcao():\n",
    "    print('Função de exemplo, só imprime isso e não retorna nada')\n"
   ]
  },
  {
   "cell_type": "code",
   "execution_count": 3,
   "metadata": {},
   "outputs": [
    {
     "ename": "IndentationError",
     "evalue": "expected an indented block (<ipython-input-3-6b7a4cb54121>, line 3)",
     "output_type": "error",
     "traceback": [
      "\u001b[1;36m  File \u001b[1;32m\"<ipython-input-3-6b7a4cb54121>\"\u001b[1;36m, line \u001b[1;32m3\u001b[0m\n\u001b[1;33m    print('Erro! Esse print nem irá ocorrer pois existe um erro de indentação!')\u001b[0m\n\u001b[1;37m        ^\u001b[0m\n\u001b[1;31mIndentationError\u001b[0m\u001b[1;31m:\u001b[0m expected an indented block\n"
     ]
    }
   ],
   "source": [
    "# Se a indentação não for feita um erro irá ocorrer!\n",
    "def nao_faca_isso():\n",
    "print('Erro! Esse print nem irá ocorrer pois existe um erro de indentação!')"
   ]
  },
  {
   "cell_type": "markdown",
   "metadata": {},
   "source": [
    "A indentação deve ser observada nas seguintes situações:\n",
    "* Blocos de Funções e Classes\n",
    "* Blocos de Loop e Condicionais\n",
    "* Blocos que fazem uso de outros construtores, como with, try e except"
   ]
  },
  {
   "cell_type": "markdown",
   "metadata": {},
   "source": [
    "### Uso da Função Type\n",
    "\n",
    "Muitas vezes é necessário verificar o tipo de uma variável. Isto pode ser feito utilizando a função type e passando como argumento a variável/objeto que se deseja averiguar o tipo. Ao longo do curso serão dados muitos exemplos do uso desta função."
   ]
  },
  {
   "cell_type": "markdown",
   "metadata": {},
   "source": [
    "### Tipos Numéricos"
   ]
  },
  {
   "cell_type": "code",
   "execution_count": 49,
   "metadata": {},
   "outputs": [
    {
     "name": "stdout",
     "output_type": "stream",
     "text": [
      "<class 'int'> <class 'float'>\n"
     ]
    }
   ],
   "source": [
    "# Em python a atribuição de tipo de uma variável ocorre dinamicamente, portanto uma variável 'A' será do tipo inteiro se\n",
    "# for feita uma atribuição de um número inteiro a ela:\n",
    "A = 2\n",
    "\n",
    "# B pode ser um número real, decimal\n",
    "B = 2.45\n",
    "\n",
    "# é possível concatenar atribuições de inúmeras variáveis, separando os valores por ','\n",
    "C, D, E = 23, 4.6, 67\n",
    "\n",
    "# verificamos pelo uso da função type os tipos associados a cada uma das variáveis definidas\n",
    "print(type(A), type(B))"
   ]
  },
  {
   "cell_type": "code",
   "execution_count": 10,
   "metadata": {},
   "outputs": [
    {
     "name": "stdout",
     "output_type": "stream",
     "text": [
      "2 2.45 23\n"
     ]
    },
    {
     "data": {
      "text/plain": [
       "4.6"
      ]
     },
     "execution_count": 10,
     "metadata": {},
     "output_type": "execute_result"
    }
   ],
   "source": [
    "# Note que após executado o código do bloco anterior, as variáveis definidas ficam salvas para uso em outros blocos\n",
    "print(A,B,C)\n",
    "\n",
    "# se não houver nenhum outro código em seguida, em um mesmo bloco, a saída do último comando é mostrada\n",
    "D"
   ]
  },
  {
   "cell_type": "code",
   "execution_count": 11,
   "metadata": {},
   "outputs": [
    {
     "ename": "NameError",
     "evalue": "name 'a' is not defined",
     "output_type": "error",
     "traceback": [
      "\u001b[1;31m---------------------------------------------------------------------------\u001b[0m",
      "\u001b[1;31mNameError\u001b[0m                                 Traceback (most recent call last)",
      "\u001b[1;32m<ipython-input-11-73b7993be5cb>\u001b[0m in \u001b[0;36m<module>\u001b[1;34m()\u001b[0m\n\u001b[0;32m      2\u001b[0m \u001b[1;31m# não foi definida nenhuma variável chamada a\u001b[0m\u001b[1;33m\u001b[0m\u001b[1;33m\u001b[0m\u001b[0m\n\u001b[0;32m      3\u001b[0m \u001b[1;31m# portanto o comando a seguir irá levantar um erro\u001b[0m\u001b[1;33m\u001b[0m\u001b[1;33m\u001b[0m\u001b[0m\n\u001b[1;32m----> 4\u001b[1;33m \u001b[0mprint\u001b[0m\u001b[1;33m(\u001b[0m\u001b[0ma\u001b[0m\u001b[1;33m)\u001b[0m\u001b[1;33m\u001b[0m\u001b[0m\n\u001b[0m",
      "\u001b[1;31mNameError\u001b[0m: name 'a' is not defined"
     ]
    }
   ],
   "source": [
    "# Note que em Python a capitalização das variáveis é importante\n",
    "# não foi definida nenhuma variável chamada 'a'\n",
    "# portanto o comando a seguir irá levantar um erro\n",
    "print(a)"
   ]
  },
  {
   "cell_type": "markdown",
   "metadata": {},
   "source": [
    "### Strings - Definições de Texto"
   ]
  },
  {
   "cell_type": "code",
   "execution_count": 13,
   "metadata": {},
   "outputs": [
    {
     "name": "stdout",
     "output_type": "stream",
     "text": [
      "Hello World!\n",
      "Como imprimir 'Hello World!'\n",
      "Este caractere indica uma quebra de linha!\n"
     ]
    }
   ],
   "source": [
    "# Strings são definidas entre '' ou \"\"\n",
    "# Um tipo especial de string, que pode ser um texto com muitas linhas, é definido em triple quotes: \n",
    "\"\"\"\n",
    "    Um texto muito longo....\n",
    "    Este texto pode ter várias linhas....\n",
    "    Normalmente utilizado para documentação de funções e módulos.\n",
    "\"\"\"\n",
    "# Normalmente se usa '' para strings sem caracteres especiais, como \\n, \\t.\n",
    "my_string = 'Hello World!'\n",
    "\n",
    "# Ao usar \"\" é possível incluir '' dentro da string e fazer uso de caracteres especiais\n",
    "other_string = \"Como imprimir 'Hello World!'\\nEste caractere indica uma quebra de linha!\"\n",
    "\n",
    "print(my_string)\n",
    "print(other_string)"
   ]
  },
  {
   "cell_type": "code",
   "execution_count": 271,
   "metadata": {},
   "outputs": [
    {
     "name": "stdout",
     "output_type": "stream",
     "text": [
      "O 'caractere' para quebra de linha é \\n\n",
      "C:\\Users\\Estudos\\Code\\treinamento python\n"
     ]
    }
   ],
   "source": [
    "# existem inúmeros métodos para manipulação de strings. Alguns deles serão vistos em uma seção futura.\n",
    "# Na realidade uma string é um iterável de caracteres, sendo possível manipulá-los como se fosse uma lista.\n",
    "# Isto ficará mais claro mais a frente.\n",
    "\n",
    "# Alguns caracteres especiais precisam ser \"escapados\" para serem impressos explícitamente\n",
    "# por exemplo, a quebra de linha irá ocorrer se for definida na string\n",
    "\n",
    "# Se for necessário imprimir \\n explícitamente é necessário usar RAW Strings, adicionando 'r' antes da definição\n",
    "quebra_linha = r\"O 'caractere' para quebra de linha é \\n\"\n",
    "print(quebra_linha)\n",
    "\n",
    "# O uso de raw strings é importante na definição de dirtórios, pois o caracter '\\' é especial e implica a chamada de comandos\n",
    "folder_path = r\"C:\\Users\\Estudos\\Code\\treinamento python\"\n",
    "print(folder_path)"
   ]
  },
  {
   "cell_type": "code",
   "execution_count": 27,
   "metadata": {},
   "outputs": [
    {
     "ename": "SyntaxError",
     "evalue": "(unicode error) 'unicodeescape' codec can't decode bytes in position 2-3: truncated \\UXXXXXXXX escape (<ipython-input-27-856b9868a4cf>, line 2)",
     "output_type": "error",
     "traceback": [
      "\u001b[1;36m  File \u001b[1;32m\"<ipython-input-27-856b9868a4cf>\"\u001b[1;36m, line \u001b[1;32m2\u001b[0m\n\u001b[1;33m    wrong_path = \"C:\\Users\\Estudos\\Code\\treinamento tython\"\u001b[0m\n\u001b[1;37m                ^\u001b[0m\n\u001b[1;31mSyntaxError\u001b[0m\u001b[1;31m:\u001b[0m (unicode error) 'unicodeescape' codec can't decode bytes in position 2-3: truncated \\UXXXXXXXX escape\n"
     ]
    }
   ],
   "source": [
    "# note que podem haver erros caso não seja utilizado o prefixo 'r'\n",
    "wrong_path = \"C:\\Users\\Estudos\\Code\\treinamento tython\"\n",
    "print(wrong_path)"
   ]
  },
  {
   "cell_type": "code",
   "execution_count": null,
   "metadata": {
    "collapsed": true
   },
   "outputs": [],
   "source": [
    "# Neste caso o erro ocorreu pois o Python intepreta '\\' como sendo a chamada de um caracter especial e no caso '\\U'\n",
    "# não representa um comando válido, portanto aparece um erro de sintaxe"
   ]
  },
  {
   "cell_type": "markdown",
   "metadata": {},
   "source": [
    "### Booleano\n",
    "\n",
    "O tipo booleano representa apenas dois valores: True ou False. Note que True e False são varáveis internas da linguagem, representadas exatamente com esta sintaxe. true, ou TRUE não é reconhecido.\n",
    "Em operações condicionais a saída é sempre um booleano. Por exmpo, ao se checar se A é igual a B a resposta desta operação condicional é um booleano."
   ]
  },
  {
   "cell_type": "code",
   "execution_count": 35,
   "metadata": {
    "collapsed": true
   },
   "outputs": [],
   "source": [
    "# Definição explícita de uma variável booleana\n",
    "verdadeiro = True #Note que com o uso da sintaxe adequada o editor de texto do jupyter \n",
    "falso = False # coloriu a variável em verde indicando o reconhecimento da mesma"
   ]
  },
  {
   "cell_type": "code",
   "execution_count": 30,
   "metadata": {},
   "outputs": [
    {
     "ename": "NameError",
     "evalue": "name 'true' is not defined",
     "output_type": "error",
     "traceback": [
      "\u001b[1;31m---------------------------------------------------------------------------\u001b[0m",
      "\u001b[1;31mNameError\u001b[0m                                 Traceback (most recent call last)",
      "\u001b[1;32m<ipython-input-30-4e9a420ce135>\u001b[0m in \u001b[0;36m<module>\u001b[1;34m()\u001b[0m\n\u001b[0;32m      1\u001b[0m \u001b[1;31m# true, TRUE não é reconhecido\u001b[0m\u001b[1;33m\u001b[0m\u001b[1;33m\u001b[0m\u001b[0m\n\u001b[1;32m----> 2\u001b[1;33m \u001b[0mtrue_errado\u001b[0m \u001b[1;33m=\u001b[0m \u001b[0mtrue\u001b[0m\u001b[1;33m\u001b[0m\u001b[0m\n\u001b[0m",
      "\u001b[1;31mNameError\u001b[0m: name 'true' is not defined"
     ]
    }
   ],
   "source": [
    "# true, TRUE não é reconhecido\n",
    "true_errado = true"
   ]
  },
  {
   "cell_type": "code",
   "execution_count": 31,
   "metadata": {},
   "outputs": [
    {
     "data": {
      "text/plain": [
       "True"
      ]
     },
     "execution_count": 31,
     "metadata": {},
     "output_type": "execute_result"
    }
   ],
   "source": [
    "# é possível definir uma variável booleana implicitamente pelo resultado de uma operação de verificação condicional\n",
    "result = 5>3\n",
    "result"
   ]
  },
  {
   "cell_type": "code",
   "execution_count": 32,
   "metadata": {},
   "outputs": [
    {
     "data": {
      "text/plain": [
       "False"
      ]
     },
     "execution_count": 32,
     "metadata": {},
     "output_type": "execute_result"
    }
   ],
   "source": [
    "# Note que '==' não é uma atribuição de valor, e sim uma operação de verificação de igualdade! O resultado é sempre\n",
    "# um booleano, True ou False\n",
    "result = 12==4\n",
    "result"
   ]
  },
  {
   "cell_type": "code",
   "execution_count": 34,
   "metadata": {},
   "outputs": [
    {
     "name": "stdout",
     "output_type": "stream",
     "text": [
      "False True\n"
     ]
    }
   ],
   "source": [
    "# é possível comparar valores de tipos diferentes e notar que '1' != 1\n",
    "result = '1'==1\n",
    "inequality = '1'!=1\n",
    "print(result, inequality)"
   ]
  },
  {
   "cell_type": "markdown",
   "metadata": {},
   "source": [
    "## Iteráveis\n",
    "As listas são definidas por [], tuples por (), sets por {} e dicionários por {key:value}."
   ]
  },
  {
   "cell_type": "markdown",
   "metadata": {},
   "source": [
    "### Listas"
   ]
  },
  {
   "cell_type": "code",
   "execution_count": 44,
   "metadata": {},
   "outputs": [
    {
     "name": "stdout",
     "output_type": "stream",
     "text": [
      "[]\n"
     ]
    }
   ],
   "source": [
    "# Podemos criar uma lista vazia da seguinte maneira:\n",
    "my_list = []\n",
    "# Ao imprimir a variável nenhum elemento será retornado, pois ela está vazia\n",
    "print(my_list)"
   ]
  },
  {
   "cell_type": "code",
   "execution_count": 45,
   "metadata": {},
   "outputs": [
    {
     "name": "stdout",
     "output_type": "stream",
     "text": [
      "['elemento qualquer']\n"
     ]
    }
   ],
   "source": [
    "# podemos adicionar inúmeros elementos à lista utilizando o método append\n",
    "# note que diferentemente de uma função, os métodos são aplicados a um objeto, no caso \n",
    "# a uma variável do tipo lista\n",
    "\n",
    "# Isso é feito segundo a seguinte sintaxe: objeto.metodo(argumentos)\n",
    "my_list.append('elemento qualquer')\n",
    "\n",
    "# ao imprimir a lista novamente podemos ver que ela contém o elemento adicionado\n",
    "print(my_list)"
   ]
  },
  {
   "cell_type": "code",
   "execution_count": 46,
   "metadata": {},
   "outputs": [
    {
     "name": "stdout",
     "output_type": "stream",
     "text": [
      "['oi', 'no', 'ok', 123, 3.5, True, [], ['elemento qualquer']]\n"
     ]
    }
   ],
   "source": [
    "# Note que o método append modifica a lista/objeto no qual ele é chamado\n",
    "\n",
    "# podemos criar uma nova lista com elementos pré-estabelecidos separados por ','\n",
    "other_list = ['oi', 'no', 'ok', 123, 3.5, True, [], my_list]\n",
    "\n",
    "# Note que é possível passar elementos de qualquer tipo para a lista, inclusive outras listas\n",
    "# e outras variáveis\n",
    "print(other_list)"
   ]
  },
  {
   "cell_type": "code",
   "execution_count": 47,
   "metadata": {},
   "outputs": [
    {
     "name": "stdout",
     "output_type": "stream",
     "text": [
      "['oi', 'no', 'ok', 123, 3.5, True, []]\n",
      "['elemento qualquer']\n"
     ]
    }
   ],
   "source": [
    "# Para remover o último elemento da lista podemos utilizar o método pop, que remove e retorna o último elemento\n",
    "last_el = other_list.pop()\n",
    "\n",
    "# note que assim como o método append, pop modifica a lista, mas ele também retorna um valor, correspondente\n",
    "# ao elemento removido, podendo ou não ser armazenado em uma variável\n",
    "print(other_list)\n",
    "print(last_el)"
   ]
  },
  {
   "cell_type": "code",
   "execution_count": 48,
   "metadata": {},
   "outputs": [
    {
     "name": "stdout",
     "output_type": "stream",
     "text": [
      "Help on class range in module builtins:\n",
      "\n",
      "class range(object)\n",
      " |  range(stop) -> range object\n",
      " |  range(start, stop[, step]) -> range object\n",
      " |  \n",
      " |  Return an object that produces a sequence of integers from start (inclusive)\n",
      " |  to stop (exclusive) by step.  range(i, j) produces i, i+1, i+2, ..., j-1.\n",
      " |  start defaults to 0, and stop is omitted!  range(4) produces 0, 1, 2, 3.\n",
      " |  These are exactly the valid indices for a list of 4 elements.\n",
      " |  When step is given, it specifies the increment (or decrement).\n",
      " |  \n",
      " |  Methods defined here:\n",
      " |  \n",
      " |  __contains__(self, key, /)\n",
      " |      Return key in self.\n",
      " |  \n",
      " |  __eq__(self, value, /)\n",
      " |      Return self==value.\n",
      " |  \n",
      " |  __ge__(self, value, /)\n",
      " |      Return self>=value.\n",
      " |  \n",
      " |  __getattribute__(self, name, /)\n",
      " |      Return getattr(self, name).\n",
      " |  \n",
      " |  __getitem__(self, key, /)\n",
      " |      Return self[key].\n",
      " |  \n",
      " |  __gt__(self, value, /)\n",
      " |      Return self>value.\n",
      " |  \n",
      " |  __hash__(self, /)\n",
      " |      Return hash(self).\n",
      " |  \n",
      " |  __iter__(self, /)\n",
      " |      Implement iter(self).\n",
      " |  \n",
      " |  __le__(self, value, /)\n",
      " |      Return self<=value.\n",
      " |  \n",
      " |  __len__(self, /)\n",
      " |      Return len(self).\n",
      " |  \n",
      " |  __lt__(self, value, /)\n",
      " |      Return self<value.\n",
      " |  \n",
      " |  __ne__(self, value, /)\n",
      " |      Return self!=value.\n",
      " |  \n",
      " |  __new__(*args, **kwargs) from builtins.type\n",
      " |      Create and return a new object.  See help(type) for accurate signature.\n",
      " |  \n",
      " |  __reduce__(...)\n",
      " |      helper for pickle\n",
      " |  \n",
      " |  __repr__(self, /)\n",
      " |      Return repr(self).\n",
      " |  \n",
      " |  __reversed__(...)\n",
      " |      Return a reverse iterator.\n",
      " |  \n",
      " |  count(...)\n",
      " |      rangeobject.count(value) -> integer -- return number of occurrences of value\n",
      " |  \n",
      " |  index(...)\n",
      " |      rangeobject.index(value, [start, [stop]]) -> integer -- return index of value.\n",
      " |      Raise ValueError if the value is not present.\n",
      " |  \n",
      " |  ----------------------------------------------------------------------\n",
      " |  Data descriptors defined here:\n",
      " |  \n",
      " |  start\n",
      " |  \n",
      " |  step\n",
      " |  \n",
      " |  stop\n",
      "\n"
     ]
    }
   ],
   "source": [
    "# Uma função muito útil para criar listas de inteiros sequencias é a função range\n",
    "# vamos olhar a documentação da função range utilizando a função help:\n",
    "help(range)"
   ]
  },
  {
   "cell_type": "code",
   "execution_count": 58,
   "metadata": {},
   "outputs": [
    {
     "name": "stdout",
     "output_type": "stream",
     "text": [
      "range(0, 10)\n",
      "<class 'range'>\n"
     ]
    }
   ],
   "source": [
    "# o que é importante na documentação são os argumentos que a função recebe e que tipo de objeto ela retorna\n",
    "# range(start, stop[, step]) -> range object\n",
    "\n",
    "# portanto podemos especificar um valor de um inteiro para o start, de onde a nossa lista começa,\n",
    "# um valor para o stop, em que número ela termina, e um step, de quanto em quanto ela conta\n",
    "\n",
    "# note que caso apenas um valor seja especificado ele corresponde ao stop\n",
    "# Importante notar que ele começa a contar no 0 e ele não incluí o último valor, ou seja, range(10) só retorna até o 9!\n",
    "print(range(10))\n",
    "\n",
    "# podemos verificar que o tipo retornado não é uma lista\n",
    "print(type(range(10)))"
   ]
  },
  {
   "cell_type": "code",
   "execution_count": 51,
   "metadata": {},
   "outputs": [
    {
     "name": "stdout",
     "output_type": "stream",
     "text": [
      "[0, 1, 2, 3, 4, 5, 6, 7, 8, 9]\n"
     ]
    }
   ],
   "source": [
    "# Como a função retorna um objeto tipo range, ao imprimir nós não temos o resultado desejado.\n",
    "# Podemos converte-lo para uma lista, utilizando a função list, para observar o resultado\n",
    "print(list(range(10)))"
   ]
  },
  {
   "cell_type": "code",
   "execution_count": 53,
   "metadata": {},
   "outputs": [
    {
     "name": "stdout",
     "output_type": "stream",
     "text": [
      "[0, 1, 2, 3, 4, 5, 6, 7, 8, 9]\n"
     ]
    }
   ],
   "source": [
    "# Deste modo podemos criar uma lista utilizando um objeto do tipo range:\n",
    "range_list = list(range(10))\n",
    "print(range_list)"
   ]
  },
  {
   "cell_type": "code",
   "execution_count": 54,
   "metadata": {},
   "outputs": [
    {
     "name": "stdout",
     "output_type": "stream",
     "text": [
      "[20, 25, 30, 35, 40, 45, 50]\n"
     ]
    }
   ],
   "source": [
    "# Se quisermos uma lista com os números entre 20 e 50 espaçados em passos de 5:\n",
    "custom_range = list(range(20, 51, 5))\n",
    "\n",
    "# note que no argumento stop da função range foi utilizado o número 51, assim o número 50 é incluso\n",
    "# para o argumento start ele considera o valor passado por padrão, portanto se queremos que a lista comece em 20,\n",
    "# especificamos 20 e não 19 no start\n",
    "print(custom_range)"
   ]
  },
  {
   "cell_type": "markdown",
   "metadata": {},
   "source": [
    "### Tuples\n",
    "\n",
    "Tuples são parecidas com listas, no entanto elas são imutáveis, não contendo os métodos append ou pop. Em geral, tem-se menos flexibilidade em trabalhar com tuples, no entanto elas são ótimas para armazenar constantes ou estruturas de dados de tamanho fixo."
   ]
  },
  {
   "cell_type": "code",
   "execution_count": 59,
   "metadata": {},
   "outputs": [
    {
     "name": "stdout",
     "output_type": "stream",
     "text": [
      "(1, 4)\n",
      "<class 'tuple'>\n"
     ]
    }
   ],
   "source": [
    "# para definir uma variável do tipo tuple deve-se utilizar parênteses: '()'\n",
    "my_tuple = (1, 4)\n",
    "\n",
    "print(my_tuple)\n",
    "print(type(my_tuple))"
   ]
  },
  {
   "cell_type": "code",
   "execution_count": 60,
   "metadata": {},
   "outputs": [
    {
     "name": "stdout",
     "output_type": "stream",
     "text": [
      "['__add__', '__class__', '__contains__', '__delattr__', '__dir__', '__doc__', '__eq__', '__format__', '__ge__', '__getattribute__', '__getitem__', '__getnewargs__', '__gt__', '__hash__', '__init__', '__init_subclass__', '__iter__', '__le__', '__len__', '__lt__', '__mul__', '__ne__', '__new__', '__reduce__', '__reduce_ex__', '__repr__', '__rmul__', '__setattr__', '__sizeof__', '__str__', '__subclasshook__', 'count', 'index']\n"
     ]
    }
   ],
   "source": [
    "# Podemos verificar os métodos disponíveis para objetos do tipo tuple utilizando a função dir\n",
    "print(dir(my_tuple))"
   ]
  },
  {
   "cell_type": "code",
   "execution_count": 61,
   "metadata": {},
   "outputs": [
    {
     "name": "stdout",
     "output_type": "stream",
     "text": [
      "['__add__', '__class__', '__contains__', '__delattr__', '__delitem__', '__dir__', '__doc__', '__eq__', '__format__', '__ge__', '__getattribute__', '__getitem__', '__gt__', '__hash__', '__iadd__', '__imul__', '__init__', '__init_subclass__', '__iter__', '__le__', '__len__', '__lt__', '__mul__', '__ne__', '__new__', '__reduce__', '__reduce_ex__', '__repr__', '__reversed__', '__rmul__', '__setattr__', '__setitem__', '__sizeof__', '__str__', '__subclasshook__', 'append', 'clear', 'copy', 'count', 'extend', 'index', 'insert', 'pop', 'remove', 'reverse', 'sort']\n"
     ]
    }
   ],
   "source": [
    "# se aplicarmos a mesma função a um objeto do tipo lista podemos ver que os métodos append e pop serão listados\n",
    "print(dir([])) \n",
    "\n",
    "# note que [] representa uma lista vazia, portanto um objeto do tipo lista\n",
    "# alternativamente pode-se passar my_list ou qualquer outra variável do tipo lista "
   ]
  },
  {
   "cell_type": "code",
   "execution_count": 62,
   "metadata": {},
   "outputs": [
    {
     "name": "stdout",
     "output_type": "stream",
     "text": [
      "['__add__', '__class__', '__contains__', '__delattr__', '__delitem__', '__dir__', '__doc__', '__eq__', '__format__', '__ge__', '__getattribute__', '__getitem__', '__gt__', '__hash__', '__iadd__', '__imul__', '__init__', '__init_subclass__', '__iter__', '__le__', '__len__', '__lt__', '__mul__', '__ne__', '__new__', '__reduce__', '__reduce_ex__', '__repr__', '__reversed__', '__rmul__', '__setattr__', '__setitem__', '__sizeof__', '__str__', '__subclasshook__', 'append', 'clear', 'copy', 'count', 'extend', 'index', 'insert', 'pop', 'remove', 'reverse', 'sort']\n"
     ]
    }
   ],
   "source": [
    "# Note que a função dir retorna uma lista, portanto, se quisermos listar os métodos associados a objetos do tipo\n",
    "# lista podemos passar a própria função dir dentro dela mesma\n",
    "print(dir(dir(''))) \n",
    "\n",
    "# neste caso foi passado um objeto do tipo string ('' é uma string vazia) apenas para\n",
    "# ter algo para a função dir retornar"
   ]
  },
  {
   "cell_type": "code",
   "execution_count": 70,
   "metadata": {
    "collapsed": true
   },
   "outputs": [],
   "source": [
    "# Os métodos com o formato: '__metodo__' são construtores especiais e não serão abordados neste curso.\n",
    "\n",
    "# Portanto os métodos disponíveis para aplicar em objetos do tipo tuple são dois apenas: count e index\n",
    "# Note que listas possuem mais flexibilidade, tendo além de count e index, outros 8 métodos disponíveis\n",
    "\n",
    "# Para aplicar um método basta seguir a sintaxe vista anteriormente:\n",
    "# O método count conta quantas ocorrências um determinado valor tem na tuple, retornando um número inteiro\n",
    "other_tuple = (1,1,'1',1,4,5,6)\n",
    "ones_in_tuple = other_tuple.count('1')"
   ]
  },
  {
   "cell_type": "code",
   "execution_count": 82,
   "metadata": {
    "collapsed": true
   },
   "outputs": [],
   "source": [
    "# Se imprimirmos a variável ones_in_tuple, qual valor devemos esperar?\n",
    "# 4, certo? \n",
    "print(ones_in_tuple)"
   ]
  },
  {
   "cell_type": "code",
   "execution_count": 73,
   "metadata": {
    "collapsed": true
   },
   "outputs": [],
   "source": [
    "# Errado!\n",
    "# note que 1 é diferente de '1' e assim como listas, tuples aceitam diversos tipos de variáveis simultaneamente"
   ]
  },
  {
   "cell_type": "code",
   "execution_count": 74,
   "metadata": {},
   "outputs": [
    {
     "name": "stdout",
     "output_type": "stream",
     "text": [
      "123.5434\n",
      "276.2341\n"
     ]
    }
   ],
   "source": [
    "# vamos definir outra tuple para mostrar outra funcionalidade importante\n",
    "cord = (123.5434, 276.2341)\n",
    "\n",
    "# Podemos descomprimir uma tuple em diversas variáveis realizando uma atribuição do tipo:\n",
    "x, y = cord\n",
    "\n",
    "# note que o número adequado de variáveis deve ser passado, caso o contrário haverá um erro\n",
    "print(x)\n",
    "print(y)"
   ]
  },
  {
   "cell_type": "markdown",
   "metadata": {},
   "source": [
    "### Verificando o Número de Elementos em um Iterável - Função len\n",
    "\n",
    "Para contar o número de elementos em um iterável podemos usar a função 'len'. Ela é aplicável à listas, tuples, dicionários e a strings! Uma string pode ser vista como uma lista de caracteres, portanto a função len retorna o número de caracteres na string."
   ]
  },
  {
   "cell_type": "code",
   "execution_count": 76,
   "metadata": {},
   "outputs": [
    {
     "name": "stdout",
     "output_type": "stream",
     "text": [
      "2\n",
      "7\n"
     ]
    }
   ],
   "source": [
    "# para conferir o número correto de variáveis necessárias para descomprimir uma tuple\n",
    "# podemos verificar o seu tamanaho usando len\n",
    "# note que len é uma FUNÇÃO, e diferentemente de um MÉTODO ela não é aplicável segundo a sintaxe objeto.metodo(argumento)\n",
    "print(len(cord))\n",
    "print(len(other_tuple))"
   ]
  },
  {
   "cell_type": "code",
   "execution_count": 78,
   "metadata": {},
   "outputs": [
    {
     "ename": "ValueError",
     "evalue": "too many values to unpack (expected 4)",
     "output_type": "error",
     "traceback": [
      "\u001b[1;31m---------------------------------------------------------------------------\u001b[0m",
      "\u001b[1;31mValueError\u001b[0m                                Traceback (most recent call last)",
      "\u001b[1;32m<ipython-input-78-2ad0e0317910>\u001b[0m in \u001b[0;36m<module>\u001b[1;34m()\u001b[0m\n\u001b[0;32m      1\u001b[0m \u001b[1;31m# se tentarmos descomprimir um tuple com o número errado de variáveis teremos um erro\u001b[0m\u001b[1;33m\u001b[0m\u001b[1;33m\u001b[0m\u001b[0m\n\u001b[1;32m----> 2\u001b[1;33m \u001b[0ma\u001b[0m\u001b[1;33m,\u001b[0m\u001b[0mb\u001b[0m\u001b[1;33m,\u001b[0m\u001b[0mc\u001b[0m\u001b[1;33m,\u001b[0m\u001b[0md\u001b[0m \u001b[1;33m=\u001b[0m \u001b[0mother_tuple\u001b[0m\u001b[1;33m\u001b[0m\u001b[0m\n\u001b[0m",
      "\u001b[1;31mValueError\u001b[0m: too many values to unpack (expected 4)"
     ]
    }
   ],
   "source": [
    "# se tentarmos descomprimir um tuple com o número errado de variáveis teremos um erro\n",
    "a,b,c,d = other_tuple\n",
    "\n",
    "# o erro ocorre pois other_tuple possui 7 elementos e estamos usando apenas 4 variáveis"
   ]
  },
  {
   "cell_type": "code",
   "execution_count": 80,
   "metadata": {},
   "outputs": [
    {
     "name": "stdout",
     "output_type": "stream",
     "text": [
      "1 1\n"
     ]
    }
   ],
   "source": [
    "# Se algum ou vários dos elementos não forem de nosso interesse podemos usar '_' como variável\n",
    "# Por exemplo, digamos que estamos interessados apenas nos dois primeiros valores\n",
    "a,b,_,_,_,_,_ = other_tuple\n",
    "print(a,b)"
   ]
  },
  {
   "cell_type": "markdown",
   "metadata": {},
   "source": [
    "### Set\n",
    "\n",
    "Sets são como listas, no entanto não permitem o armazenamento de elementos repetidos e os elementos não seguem a ordem em que foram adicionados. Pode-se adicionar novos elementos a um set existente e caso um valor já esteja presente a adição será ignorada. Os sets não dão tanta flexibilidade quanto listas para a adição de diferentes elementos. Não é possível adicionar uma lista como elemento de um set."
   ]
  },
  {
   "cell_type": "code",
   "execution_count": 274,
   "metadata": {},
   "outputs": [
    {
     "name": "stdout",
     "output_type": "stream",
     "text": [
      "<class 'set'>\n",
      "{2, 4, 22, 23.6}\n"
     ]
    }
   ],
   "source": [
    "# Pode-se usar a função set() sem passar nenhum argumento para definir um set vazio\n",
    "my_set = set()\n",
    "\n",
    "print(type(my_set))\n",
    "\n",
    "# para criar um set com elementos já definidos podemos usar a seguinte sintaxe:\n",
    "other_set = {'something', 'otherthing', 12, 6.28}\n",
    "\n",
    "# o método add é similar ao método append utilizado para listas, permitindo adição de novos elementos\n",
    "my_set.add(23.6)\n",
    "\n",
    "# note que mesmo adicionando um elemento múltiplas vezes o set resultante irá conter apenas uma cópia \n",
    "# de um mesmo valor\n",
    "my_set.add(23.6)\n",
    "my_set.add(23.6)\n",
    "my_set.add(23.6)\n",
    "my_set.add(2)\n",
    "my_set.add(4)\n",
    "my_set.add(22)\n",
    "\n",
    "# é importante notar que os elementos não são ordenados pela ordem de adição\n",
    "print(my_set)"
   ]
  },
  {
   "cell_type": "markdown",
   "metadata": {},
   "source": [
    "### Dicionários\n",
    "\n",
    "Dicionários permitem a identificação de valores/variáveis por meio de chaves (keys), que são tags específicos que identificam um valor ou grupo de elementos. \n",
    "A sintaxe para definição de um dicionário é a seguinte:"
   ]
  },
  {
   "cell_type": "code",
   "execution_count": 106,
   "metadata": {},
   "outputs": [
    {
     "data": {
      "text/plain": [
       "'valor1'"
      ]
     },
     "execution_count": 106,
     "metadata": {},
     "output_type": "execute_result"
    }
   ],
   "source": [
    "my_dict = {'tag1':'valor1', 'tag2':'valor2'}\n",
    "# neste caso foram utilizadas as strings 'tag1' e 'tag2' como chaves, associadas respectivamente às\n",
    "# strings 'valor1' e 'valor2'\n",
    "\n",
    "# para acessar um elemento associado a uma chave utiliza-se a seguinte sintaxe:\n",
    "my_dict['tag1']"
   ]
  },
  {
   "cell_type": "markdown",
   "metadata": {},
   "source": [
    "Uma maneira interessante de usar dicionários é pensando nas chaves como identificadores de colunas e os valores como os elementos associados às colunas. Pode-se associar uma lista com inúmeros elementos a cada chave, tendo uma estrutura similar a uma tabela."
   ]
  },
  {
   "cell_type": "code",
   "execution_count": 139,
   "metadata": {},
   "outputs": [
    {
     "name": "stdout",
     "output_type": "stream",
     "text": [
      "<class 'dict'>\n"
     ]
    }
   ],
   "source": [
    "# vamos ver como criar um dicionário vazio e ir adicionando elementos a ele\n",
    "my_data = {}\n",
    "print(type(my_data))"
   ]
  },
  {
   "cell_type": "code",
   "execution_count": 140,
   "metadata": {},
   "outputs": [
    {
     "data": {
      "text/plain": [
       "{'x_coord': [0, 3, 5], 'y_coord': [5, 5, 8]}"
      ]
     },
     "execution_count": 140,
     "metadata": {},
     "output_type": "execute_result"
    }
   ],
   "source": [
    "# vamos adicionar duas novas colunas e passar 3 valores para cada uma delas\n",
    "my_data['x_coord'] = [0,3,5]\n",
    "my_data['y_coord'] = [5,5,8]\n",
    "my_data"
   ]
  },
  {
   "cell_type": "code",
   "execution_count": 141,
   "metadata": {},
   "outputs": [
    {
     "data": {
      "text/plain": [
       "{'bin': [0, 15, 40], 'x_coord': [0, 3, 5], 'y_coord': [5, 5, 8]}"
      ]
     },
     "execution_count": 141,
     "metadata": {},
     "output_type": "execute_result"
    }
   ],
   "source": [
    "# vamos adicionar uma terceira coluna com valores que dependem das duas primeiras\n",
    "my_data['bin'] = [my_data['x_coord'][0]*my_data['y_coord'][0], \n",
    "                  my_data['x_coord'][1]*my_data['y_coord'][1],\n",
    "                  my_data['x_coord'][2]*my_data['y_coord'][2]]\n",
    "print(my_data)\n",
    "\n",
    "# note que para acessar elementos individuais das listas contidas no dicionário foi utilizada\n",
    "# a sintaxe: iteravel[indice], onde o iterável é a lista retornada por dict[key] e o indice\n",
    "# é um valor inteiro que identifica a posição do elemento na lista contida no dicionário\n",
    "# Esta sintaxe será explicada em detalhes na seção de Indexação de Iteráveis"
   ]
  },
  {
   "cell_type": "code",
   "execution_count": 142,
   "metadata": {},
   "outputs": [
    {
     "name": "stdout",
     "output_type": "stream",
     "text": [
      "dict_keys(['x_coord', 'y_coord', 'bin'])\n",
      "dict_values([[0, 3, 5], [5, 5, 8], [0, 15, 40]])\n"
     ]
    }
   ],
   "source": [
    "# podemos obter uma \"lista\" com todas as chaves e outra com todas os valores utilizando\n",
    "# os métodos keys e values:\n",
    "print(my_data.keys())\n",
    "print(my_data.values())"
   ]
  },
  {
   "cell_type": "code",
   "execution_count": 136,
   "metadata": {},
   "outputs": [
    {
     "data": {
      "text/plain": [
       "[0, 3, 5]"
      ]
     },
     "execution_count": 136,
     "metadata": {},
     "output_type": "execute_result"
    }
   ],
   "source": [
    "# Para acessar um elemento associado a uma chave utilizamos a seguinte sintaxe\n",
    "my_data['x_coord']"
   ]
  },
  {
   "cell_type": "code",
   "execution_count": 143,
   "metadata": {},
   "outputs": [
    {
     "data": {
      "text/plain": [
       "{'bin': [0, 15, 40, 64], 'x_coord': [0, 3, 5, 8], 'y_coord': [5, 5, 8, 8]}"
      ]
     },
     "execution_count": 143,
     "metadata": {},
     "output_type": "execute_result"
    }
   ],
   "source": [
    "# note que neste caso os elementos são uma lista, portanto podemos aplicar métodos\n",
    "# específicos para listas, como o método append\n",
    "\n",
    "# vamos adionar novos elementos ao nosso dicionário\n",
    "my_data['x_coord'].append(8)\n",
    "my_data['y_coord'].append(8)\n",
    "my_data['bin'].append(my_data['x_coord'][3]*my_data['y_coord'][3])\n",
    "my_data"
   ]
  },
  {
   "cell_type": "markdown",
   "metadata": {},
   "source": [
    "## 3. Operações Matemáticas, Operadores Típicos e Conversão de Variáveis\n",
    "\n",
    "Todas as operações matemáticas básicas podem ser realizadas em python. Comparadores e operadores lógicos também podem ser implementados seguindo uma sintaxe intuitiva. Nesta seção serão apresentadas as operações típicas, bem como as funções para conversão de variáveis."
   ]
  },
  {
   "cell_type": "markdown",
   "metadata": {},
   "source": [
    "### Operações Matemáticas"
   ]
  },
  {
   "cell_type": "code",
   "execution_count": 145,
   "metadata": {},
   "outputs": [
    {
     "name": "stdout",
     "output_type": "stream",
     "text": [
      "8 3 8 2.0\n"
     ]
    }
   ],
   "source": [
    "# Adição, subtração, multiplicação e divisão\n",
    "A = 5 + 3\n",
    "B = 10-7\n",
    "C = 4*2\n",
    "D = 8/4\n",
    "\n",
    "# note que enquanto as operações de adição, subtração e multiplicação forem realizadas\n",
    "# em números inteiros, o resultado será também um número inteiro (int)\n",
    "# No entanto o resultado de uma divisão é sempre um número real/decimal (ponto flutuante, float)\n",
    "\n",
    "print(A,B,C,D)\n"
   ]
  },
  {
   "cell_type": "code",
   "execution_count": 149,
   "metadata": {},
   "outputs": [
    {
     "name": "stdout",
     "output_type": "stream",
     "text": [
      "2 1\n"
     ]
    }
   ],
   "source": [
    "# Para obter um número inteiro em uma divisão pode-se usar o operador //\n",
    "D = 8//4\n",
    "\n",
    "# ou converter o resultado para um inteiro usando a função int\n",
    "# Note que este método não realiza o arredondamento do valor (para arredondar use 'round')\n",
    "E = int(8/4)\n",
    "\n",
    "print(D, E)"
   ]
  },
  {
   "cell_type": "code",
   "execution_count": 150,
   "metadata": {},
   "outputs": [
    {
     "name": "stdout",
     "output_type": "stream",
     "text": [
      "1 5\n"
     ]
    }
   ],
   "source": [
    "# Existe um operador especial para obter o resto de uma divisão por inteiro\n",
    "# Resto da divisão, operador %\n",
    "F = 7 % 3\n",
    "G = 125 % 10\n",
    "\n",
    "print(F, G)"
   ]
  },
  {
   "cell_type": "code",
   "execution_count": 151,
   "metadata": {},
   "outputs": [
    {
     "name": "stdout",
     "output_type": "stream",
     "text": [
      "8 3.0 1.592356687898089\n"
     ]
    }
   ],
   "source": [
    "# Exponenciação: val**exp\n",
    "A = 2**3 # dois elevado ao cubo\n",
    "B = 9**0.5 # raiz quadrada de 9\n",
    "\n",
    "# Pode-se escrever expressões complexas agrupando as variáveis em parênteses\n",
    "C = ((A-B)**2)/(3.14*5)\n",
    "\n",
    "print(A,B,C)\n"
   ]
  },
  {
   "cell_type": "code",
   "execution_count": 153,
   "metadata": {},
   "outputs": [
    {
     "ename": "ZeroDivisionError",
     "evalue": "division by zero",
     "output_type": "error",
     "traceback": [
      "\u001b[1;31m---------------------------------------------------------------------------\u001b[0m",
      "\u001b[1;31mZeroDivisionError\u001b[0m                         Traceback (most recent call last)",
      "\u001b[1;32m<ipython-input-153-ec6209ccd58b>\u001b[0m in \u001b[0;36m<module>\u001b[1;34m()\u001b[0m\n\u001b[0;32m      1\u001b[0m \u001b[1;31m# Divisões por 0 irão resultar em erro, a menos que um pacote apropriado seja utilizado (numpy)\u001b[0m\u001b[1;33m\u001b[0m\u001b[1;33m\u001b[0m\u001b[0m\n\u001b[1;32m----> 2\u001b[1;33m \u001b[0mprint\u001b[0m\u001b[1;33m(\u001b[0m\u001b[1;36m4\u001b[0m\u001b[1;33m/\u001b[0m\u001b[1;36m0\u001b[0m\u001b[1;33m)\u001b[0m\u001b[1;33m\u001b[0m\u001b[0m\n\u001b[0m",
      "\u001b[1;31mZeroDivisionError\u001b[0m: division by zero"
     ]
    }
   ],
   "source": [
    "# Divisões por 0 irão resultar em erro, a menos que um módulo apropriado seja utilizado (numpy)\n",
    "print(4/0)"
   ]
  },
  {
   "cell_type": "markdown",
   "metadata": {},
   "source": [
    "### Comparações e Operadores Lógicos\n",
    "\n",
    "O resultado de uma comparação é sempre uma variável booleana (True ou False), sendo, portanto, tipicamente utilizadas como entrada de condicionais. As operações típicas são as seguintes:\n",
    "* Igualdade: ==\n",
    "* Desigualdade: !=\n",
    "* Maior que: >\n",
    "* Menor que: <\n",
    "* Maior ou igual: >=\n",
    "* Menor ou igual: <=\n",
    "\n",
    "Expressões de comparação podem ser combinadas utilizando operadores lógicos como:\n",
    "\n",
    "* not \n",
    "* and\n",
    "* or\n"
   ]
  },
  {
   "cell_type": "code",
   "execution_count": 158,
   "metadata": {
    "collapsed": true
   },
   "outputs": [],
   "source": [
    "# Tente identificar o resultado das operações a seguir\n",
    "A = 5==3\n",
    "B = 5!=3\n",
    "C = 4>5\n",
    "D = 4<5\n",
    "E = (10+5)/2>=7\n",
    "F = not True\n",
    "G = (A and B) or D"
   ]
  },
  {
   "cell_type": "code",
   "execution_count": 159,
   "metadata": {},
   "outputs": [
    {
     "name": "stdout",
     "output_type": "stream",
     "text": [
      "False True False True True False True\n"
     ]
    }
   ],
   "source": [
    "print(A,B,C,D,E,F,G)\n"
   ]
  },
  {
   "cell_type": "markdown",
   "metadata": {},
   "source": [
    "### Atribuição não é uma Equação!\n",
    "\n",
    "É muito importante notar que em linguagens de programação uma atribuição não é uma equação. Atribuições de valores para variáveis em Python são realizadas com o operador '=' e não representam uma equação, no sentido de que regras algébricas não são aplicáveis. Deste modo é possível realizar atribuições que corresponderiam a equações impossíveis, como as operações de atualização de valor de uma variável e acumulação/somatório."
   ]
  },
  {
   "cell_type": "code",
   "execution_count": 275,
   "metadata": {},
   "outputs": [
    {
     "data": {
      "text/plain": [
       "8"
      ]
     },
     "execution_count": 275,
     "metadata": {},
     "output_type": "execute_result"
    }
   ],
   "source": [
    "A = 3\n",
    "# Note que caso uma atribuição fosse uma equação neste caso 0 = 5, o que é impossível\n",
    "A = A + 5 # A = 3 + 5\n",
    "\n",
    "# A expressão acima significa: atualize o valor de A para o valor anterior de A acrescido de 5\n",
    "A"
   ]
  },
  {
   "cell_type": "code",
   "execution_count": 276,
   "metadata": {},
   "outputs": [
    {
     "data": {
      "text/plain": [
       "13"
      ]
     },
     "execution_count": 276,
     "metadata": {},
     "output_type": "execute_result"
    }
   ],
   "source": [
    "# Em programação expressões deste tipo são muito comuns e em Python a sintaxe pode ser simplificada\n",
    "# da seguinte maneira\n",
    "A += 5 # A = A + 5\n",
    "A"
   ]
  },
  {
   "cell_type": "code",
   "execution_count": 277,
   "metadata": {},
   "outputs": [
    {
     "data": {
      "text/plain": [
       "8.666666666666666"
      ]
     },
     "execution_count": 277,
     "metadata": {},
     "output_type": "execute_result"
    }
   ],
   "source": [
    "# Note se forem realizadas sucessivas operações de atribuição com soma o valor\n",
    "# da variável irá aumentar cumulativamente\n",
    "\n",
    "# Qualquer operação matemática básica pode ser realizada segundo esta sintaxe\n",
    "\n",
    "# A seguir um exmplo com multiplicação e divisão\n",
    "A *= 2 # Equivalente a A = A*2\n",
    "A /= 3 # Equivalente a A = A/3\n",
    "A\n"
   ]
  },
  {
   "cell_type": "markdown",
   "metadata": {},
   "source": [
    "### Operações com Strings\n",
    "\n",
    "É possível utilizar alguns dos operadores matemáticos em strings. O mais comum é a operação de adição, que permite concatenar strings. Também pode-se utilizar a multiplicação por escalar, para repetir uma string, e aplicar atribuições com atualização de valores, para adicionar novos elementos a uma string.\n",
    "\n",
    "A seguir serão dados alguns exemplos típicos."
   ]
  },
  {
   "cell_type": "code",
   "execution_count": 166,
   "metadata": {},
   "outputs": [
    {
     "name": "stdout",
     "output_type": "stream",
     "text": [
      "Hello World!\n"
     ]
    }
   ],
   "source": [
    "# Concatenação de strings\n",
    "A = 'Hello'\n",
    "B = \" World!\"\n",
    "print(A+B)"
   ]
  },
  {
   "cell_type": "code",
   "execution_count": 168,
   "metadata": {},
   "outputs": [
    {
     "name": "stdout",
     "output_type": "stream",
     "text": [
      "Hello World!Hello World!Hello World!Hello World!Hello World!\n"
     ]
    }
   ],
   "source": [
    "# Multiplicação por escalar\n",
    "C = (A+B)*5\n",
    "print(C)"
   ]
  },
  {
   "cell_type": "code",
   "execution_count": 169,
   "metadata": {},
   "outputs": [
    {
     "data": {
      "text/plain": [
       "'Hello World!'"
      ]
     },
     "execution_count": 169,
     "metadata": {},
     "output_type": "execute_result"
    }
   ],
   "source": [
    "# Atribuição\n",
    "A += ' World!'\n",
    "A"
   ]
  },
  {
   "cell_type": "code",
   "execution_count": 170,
   "metadata": {},
   "outputs": [
    {
     "data": {
      "text/plain": [
       "'Hello World!Hello World!Hello World!Hello World!Hello World!'"
      ]
     },
     "execution_count": 170,
     "metadata": {},
     "output_type": "execute_result"
    }
   ],
   "source": [
    "# Atribuição com multiplicação\n",
    "A *= 5\n",
    "A"
   ]
  },
  {
   "cell_type": "markdown",
   "metadata": {},
   "source": [
    "### Conversão de Variáveis\n",
    "\n",
    "Muitas vezes é necessário converter uma variável de um tipo em outro. Conversões de inteiros em números decimais e vice-versa são muito comuns. Também é comum a conversão de uma string numérica (texto de um número) em inteiros ou números decimais, ou vice versa. Estas conversões são realizadas utilizando funções apropriadas:\n",
    "\n",
    "* int() - Converte um número decimal ou uma string numérica em inteiro\n",
    "* float() - Converte um número inteiro ou uma string numérica em número decimal\n",
    "* str() - Converte um número em string\n",
    "\n",
    "A seguir serão dados alguns exemplos de aplicação destas funções."
   ]
  },
  {
   "cell_type": "code",
   "execution_count": 311,
   "metadata": {},
   "outputs": [
    {
     "name": "stdout",
     "output_type": "stream",
     "text": [
      "3 3.0 3.14\n"
     ]
    }
   ],
   "source": [
    "A = int(3.14)\n",
    "B = float(A)\n",
    "C = str(3.14)\n",
    "\n",
    "print(A,B,C)"
   ]
  },
  {
   "cell_type": "code",
   "execution_count": 312,
   "metadata": {},
   "outputs": [
    {
     "name": "stdout",
     "output_type": "stream",
     "text": [
      "<class 'str'>\n"
     ]
    },
    {
     "data": {
      "text/plain": [
       "'3.14 Esse é o valor de Pi!'"
      ]
     },
     "execution_count": 312,
     "metadata": {},
     "output_type": "execute_result"
    }
   ],
   "source": [
    "# note que não foi possível ver a diferença entre a string numérica e o número decimal\n",
    "# Isto ocorre pois a função print converte os valores em string automaticamente\n",
    "\n",
    "# averiguando o tipo da variável C é possível ver que C é de fato uma string\n",
    "print(type(C))\n",
    "\n",
    "# note que se tentarmos adicionar um texto à varável C não haverá erro\n",
    "C += ' Esse é o valor de Pi!'\n",
    "C"
   ]
  },
  {
   "cell_type": "code",
   "execution_count": 267,
   "metadata": {},
   "outputs": [
    {
     "ename": "TypeError",
     "evalue": "unsupported operand type(s) for +=: 'float' and 'str'",
     "output_type": "error",
     "traceback": [
      "\u001b[1;31m---------------------------------------------------------------------------\u001b[0m",
      "\u001b[1;31mTypeError\u001b[0m                                 Traceback (most recent call last)",
      "\u001b[1;32m<ipython-input-267-3be0c88d98b9>\u001b[0m in \u001b[0;36m<module>\u001b[1;34m()\u001b[0m\n\u001b[0;32m      1\u001b[0m \u001b[1;31m# No entanto se tentarmos adicionar texto à uma variável numérica sem\u001b[0m\u001b[1;33m\u001b[0m\u001b[1;33m\u001b[0m\u001b[0m\n\u001b[0;32m      2\u001b[0m \u001b[1;31m# realizar a conversão para string teremos um erro de tipo\u001b[0m\u001b[1;33m\u001b[0m\u001b[1;33m\u001b[0m\u001b[0m\n\u001b[1;32m----> 3\u001b[1;33m \u001b[0mA\u001b[0m \u001b[1;33m+=\u001b[0m \u001b[1;34m' A não é uma string, não posso fazer esta atribuição...'\u001b[0m\u001b[1;33m\u001b[0m\u001b[0m\n\u001b[0m",
      "\u001b[1;31mTypeError\u001b[0m: unsupported operand type(s) for +=: 'float' and 'str'"
     ]
    }
   ],
   "source": [
    "# No entanto se tentarmos adicionar texto à uma variável numérica sem\n",
    "# realizar a conversão para string teremos um erro de tipo\n",
    "A += ' A não é uma string, não posso fazer esta atribuição...'"
   ]
  },
  {
   "cell_type": "code",
   "execution_count": 180,
   "metadata": {},
   "outputs": [
    {
     "data": {
      "text/plain": [
       "5.23"
      ]
     },
     "execution_count": 180,
     "metadata": {},
     "output_type": "execute_result"
    }
   ],
   "source": [
    "# Na conversão para float é possível especificar o número de casas decimais usando \n",
    "# a função round\n",
    "A = '5.23123156777555'\n",
    "A = float(A)\n",
    "A = round(A,2) # O segundo argumento representa o número de casas decimais desejada\n",
    "A"
   ]
  },
  {
   "cell_type": "markdown",
   "metadata": {},
   "source": [
    "## Loops e Condicionais\n",
    "\n",
    "Loops e condicionais estão entre as funcionalidades mais importantes em programação. Loops permitem a execução de um bloco de código inúmeras vezes, podendo ter um número predefinido de iterações (for loop) ou ser executado indefinidamente até que uma determinada condição se estabeleça (while loop). As operações condicionais permitem a tomada de decisão com base no resultado de uma verificação (que pode ser uma comparação ou qualquer expressão que resulte em um booleano), executando um bloco de código específico baseado no resultado da verificação.\n",
    "\n",
    "Muitas vezes têm-se expressões condicionais associadas com loops, onde uma determinada expressão é verificada repetidamente para cada iteração do loop. Tipicamente uma variável de índice é alterada para cada nova iteração do loop, e um condicional checa por um determinado valor do index para a execução de um determinado bloco de código.\n",
    "\n",
    "O uso de loops permite, por exemplo, iterar por todos os elementos de uma lista e por meio de uma expressão condicional adicionar os elementos pares em uma outra lista, previamente vazia. Vamos implementar este exemplo a seguir."
   ]
  },
  {
   "cell_type": "code",
   "execution_count": 182,
   "metadata": {},
   "outputs": [
    {
     "name": "stdout",
     "output_type": "stream",
     "text": [
      "[0, 1, 2, 3, 4, 5, 6, 7, 8, 9, 10, 11, 12, 13, 14, 15, 16, 17, 18, 19, 20, 21, 22, 23, 24, 25, 26, 27, 28, 29, 30, 31, 32, 33, 34, 35, 36, 37, 38, 39, 40, 41, 42, 43, 44, 45, 46, 47, 48, 49, 50, 51, 52, 53, 54, 55, 56, 57, 58, 59, 60, 61, 62, 63, 64, 65, 66, 67, 68, 69, 70, 71, 72, 73, 74, 75, 76, 77, 78, 79, 80, 81, 82, 83, 84, 85, 86, 87, 88, 89, 90, 91, 92, 93, 94, 95, 96, 97, 98, 99, 100]\n"
     ]
    }
   ],
   "source": [
    "# cria uma lista vazia para armazenar os elementos pares\n",
    "pares = []\n",
    "\n",
    "# cria uma lista com números de 0 a 100\n",
    "my_list = list(range(101))\n",
    "print(my_list)"
   ]
  },
  {
   "cell_type": "code",
   "execution_count": 183,
   "metadata": {},
   "outputs": [
    {
     "name": "stdout",
     "output_type": "stream",
     "text": [
      "[0, 2, 4, 6, 8, 10, 12, 14, 16, 18, 20, 22, 24, 26, 28, 30, 32, 34, 36, 38, 40, 42, 44, 46, 48, 50, 52, 54, 56, 58, 60, 62, 64, 66, 68, 70, 72, 74, 76, 78, 80, 82, 84, 86, 88, 90, 92, 94, 96, 98, 100]\n"
     ]
    }
   ],
   "source": [
    "# Realiza um for loop para iterar por cada elemento de my_list\n",
    "# note que sintaxe exige o caractere ':' no final da definição do loop\n",
    "\n",
    "for element in my_list: # literalmente, para cada elemento em my_list\n",
    "    # Observe a indentação, código executado dentro do loop deve estar distânciado em uma tabulação (tab)\n",
    "    # da definição do loop\n",
    "    \n",
    "    # Aplica uma expressão condicional para determinar quais elementos são pares\n",
    "    if (element % 2 == 0): # Se o resto da divisão do elemento por 2 for 0 ele é par \n",
    "        # e portanto executa o código dentro do if\n",
    "        \n",
    "        # note que a indentação é muito importante e define o que está dentro do if e dentro do for\n",
    "        \n",
    "        # adiciona o elemento à lista pares, previamente vazia\n",
    "        pares.append(element)\n",
    "\n",
    "# imprime a lista pares\n",
    "print(pares)"
   ]
  },
  {
   "cell_type": "code",
   "execution_count": 185,
   "metadata": {},
   "outputs": [
    {
     "name": "stdout",
     "output_type": "stream",
     "text": [
      "1 3\n",
      "1 5\n",
      "1 7\n",
      "2 3\n",
      "2 5\n",
      "2 7\n",
      "3 3\n",
      "3 5\n",
      "3 7\n",
      "4 3\n",
      "4 5\n",
      "4 7\n",
      "5 3\n",
      "5 5\n",
      "5 7\n",
      "[3, 5, 7, 6, 10, 14, 9, 15, 21, 12, 20, 28, 15, 25, 35]\n"
     ]
    }
   ],
   "source": [
    "# é possível concatenar loops dentro de loops, condicionais dentro de condicionais\n",
    "# loops dentro de condicionais, etc\n",
    "\n",
    "# neste exemplo vamos criar uma nova lista com o produto de cada elemento na primeira lista por cada elemento\n",
    "# na segunda\n",
    "lista_1 = [1,2,3,4,5]\n",
    "lista_2 = [3,5,7]\n",
    "prod = []\n",
    "\n",
    "# primeiro loop itera pelos elementos da primeira lista\n",
    "for el_1 in lista_1:\n",
    "    # segundo loop é realizado para cada elemento da primeira lista\n",
    "    # iterando pelos elementos da segunda lista\n",
    "    for el_2 in lista_2:\n",
    "        # vamos imprimir el_1 e el_2 para um melhor entendimento\n",
    "        print(el_1, el_2)\n",
    "        # adiciona o produto à lista prod\n",
    "        prod.append(el_1*el_2)\n",
    "        \n",
    "# imprime a lista com o produto\n",
    "print(prod)"
   ]
  },
  {
   "cell_type": "code",
   "execution_count": 186,
   "metadata": {},
   "outputs": [
    {
     "name": "stdout",
     "output_type": "stream",
     "text": [
      "15 5 3\n"
     ]
    }
   ],
   "source": [
    "# Note que a lista prod tem dimensão len(lista_1)*len(lista_2)\n",
    "print(len(prod), len(lista_1), len(lista_2))"
   ]
  },
  {
   "cell_type": "markdown",
   "metadata": {},
   "source": [
    "### Uso da Função zip\n",
    "\n",
    "É possível iterar pelos elementos de inúmeras listas ao mesmo tempo, utilizando a função zip. Para evitar erros é importante que todas as listas tenham o mesmo tamanho. Vamos criar um dicionário em que as chaves estão definidas em uma lista e os valores associados às chaves estão definidas em outra lista."
   ]
  },
  {
   "cell_type": "code",
   "execution_count": 188,
   "metadata": {},
   "outputs": [
    {
     "name": "stdout",
     "output_type": "stream",
     "text": [
      "{0: 'zero', 1: 'um', 2: 'dois', 3: 'tres', 4: 'quatro'}\n"
     ]
    }
   ],
   "source": [
    "# define um dicionário vazio\n",
    "my_dict = {}\n",
    "\n",
    "# lista com as chaves do dicionário\n",
    "my_keys = list(range(5))\n",
    "\n",
    "# lista com os valores\n",
    "my_values = ['zero', 'um', 'dois', 'tres', 'quatro']\n",
    "\n",
    "# itera pelas duas listas simultaneamente\n",
    "for k, v in zip(my_keys, my_values):\n",
    "    # adiciona uma chave k associada ao valor v no dicionário previamente vazio\n",
    "    my_dict[k]=v\n",
    "    \n",
    "# imprime o dicionário\n",
    "print(my_dict)\n"
   ]
  },
  {
   "cell_type": "markdown",
   "metadata": {},
   "source": [
    "### List, Dict e Tuple Comprehension\n",
    "\n",
    "Permite a combinação de loops e condicionais em uma mesma linha dentro de uma atribuição de lista, dicionário ou tuple. É uma ferramenta poderosa para a criação de iteráveis complexos em uma única linha de código. Veremos alguns exemplos a seguir."
   ]
  },
  {
   "cell_type": "code",
   "execution_count": 316,
   "metadata": {},
   "outputs": [
    {
     "name": "stdout",
     "output_type": "stream",
     "text": [
      "[1, 9, 25, 49, 81]\n",
      "(1, 27, 125, 343, 729)\n"
     ]
    }
   ],
   "source": [
    "# Criação de uma lista com o valor quadrático dos números ímpares de 1 a 10\n",
    "sqr_odd = [v**2 for v in range(1,11) if v%2 != 0]\n",
    "\n",
    "# Criação de um tuple com o valor cúbico dos números ímpares de 1 a 10\n",
    "cube_odd = tuple((el**3 for el in range(1,11) if el%2 != 0))\n",
    "\n",
    "print(sqr_odd)\n",
    "print(cube_odd)"
   ]
  },
  {
   "cell_type": "code",
   "execution_count": 317,
   "metadata": {},
   "outputs": [
    {
     "name": "stdout",
     "output_type": "stream",
     "text": [
      "{1: [1, 1], 3: [9, 27], 5: [25, 125], 7: [49, 343], 9: [81, 729]}\n"
     ]
    }
   ],
   "source": [
    "# agora vamos usar os dois iteráveis criados no bloco anterior para definir um dicionário\n",
    "# usando a função zip para iterar em paralelo pelas variáveis\n",
    "my_dict = {k:[sqr, cube] for k, sqr, cube in zip(range(1,11,2), sqr_odd, cube_odd)}\n",
    "\n",
    "# note que para cada key do dicionário uma lista com dois valores está sendo atribuída\n",
    "# os valores da lista são os elementos de sqr_odd e cube_odd\n",
    "# As keys foram geradas pela função range, começando do 1 até 11 (não inclusivo) com passos de 2 em 2\n",
    "print(my_dict)"
   ]
  },
  {
   "cell_type": "markdown",
   "metadata": {},
   "source": [
    "### Condicionais com Múltiplas Expressões\n",
    "\n",
    "Muitas vezes deseja-se verificar múltiplas expressões para determinar qual bloco de código deverá ser executado. Por exemplo, suponha que se têm uma variável associada a um resultado de um determinado teste, digamos, a temperatura de uma sala. Deseja-se setar uma outra variável, cor, dependendo do intervalo de temperatura. Deseja-se implementar, portanto, as seguintes expressões condicionais:\n",
    "\n",
    "* Se a temperatura for maior que 50 graus a cor será vermelha\n",
    "* Se a temperatura estiver entre 30 e 50 graus a cor será amarela\n",
    "* Se a temperatura estiver entre 10 e 30 graus a cor será verde\n",
    "* Se a temperatura estiver abaixo de 10 graus a cor será azul\n",
    "\n",
    "Isto pode ser implementado pelo código a seguir."
   ]
  },
  {
   "cell_type": "code",
   "execution_count": 189,
   "metadata": {},
   "outputs": [
    {
     "name": "stdout",
     "output_type": "stream",
     "text": [
      "green\n"
     ]
    }
   ],
   "source": [
    "# define a variável de temperatura\n",
    "temp = 25\n",
    "\n",
    "# Para realizar múltiplas comparações pode-se usar a sintáxe: if, elif e else, da seguinte maneira:\n",
    "if temp>50: # se for maior que 50\n",
    "    cor = 'red'\n",
    "elif temp > 30: # else if, só será executado se o primeiro if for falso\n",
    "    cor = 'yellow'\n",
    "elif temp > 10: # só será executado se os condicionais anteriores falharem\n",
    "    cor = 'green'\n",
    "else: # em qualquer outra situação a cor será azul. Inclusive se a temperatura não for um valor válido\n",
    "    cor = 'blue'\n",
    "    \n",
    "# é importante notar que apenas um dos blocos de código será executado e as comparações são feitas em ordem\n",
    "# Por este motivo não é necessário especificar o limite superior da temperatura nas comparações subsequentes,\n",
    "# pois se aquela comparação estiver sendo feita é porque as anteriores não foram satisfeitas\n",
    "\n",
    "# imprime a cor\n",
    "print(cor)\n"
   ]
  },
  {
   "cell_type": "markdown",
   "metadata": {},
   "source": [
    "### Loops Infinitos\n",
    "\n",
    "Existem muitas situações onde um loop é executado indefinidamente. A própria interface gráfica dos programas tipicamente utilizados é um exemplo de loop infinito, onde a janela do programa é mostrada até que o usuário clique no 'x' que fecha a janela, ou termine o programa por algum outro comando. Estes loops são exemplos de while loop.\n",
    "\n",
    "Diferentemente dos for loops, vistos anteriormente, o while loop executa um bloco de código indefinidamente até que uma determinada condição seja satisfeita. Deste modo, é como se ele combinasse um if com a execução do loop.\n",
    "Será dado a seguir um exemplo de um while loop que irá imprimir o valor de uma variável enquanto o seu valor for inferior a 10."
   ]
  },
  {
   "cell_type": "code",
   "execution_count": 194,
   "metadata": {},
   "outputs": [
    {
     "name": "stdout",
     "output_type": "stream",
     "text": [
      "0\n",
      "1\n",
      "2\n",
      "3\n",
      "4\n",
      "5\n",
      "6\n",
      "7\n",
      "8\n",
      "9\n"
     ]
    }
   ],
   "source": [
    "# define-se uma variável de controle do loop com valor inicial 0\n",
    "idx = 0\n",
    "\n",
    "# definição do while loop, deve conter ume expressão booleana, isto é, uma expressão que retorne True ou False\n",
    "while idx<10:\n",
    "    # note a identação\n",
    "    \n",
    "    print(idx)\n",
    "    \n",
    "    # soma 1 ao valor anterior de idx\n",
    "    idx += 1"
   ]
  },
  {
   "cell_type": "markdown",
   "metadata": {},
   "source": [
    "#### Use o comando break para interromper um loop\n",
    "O comando break sai do loop mais interno. Caso hajam múltiplos loops concatenados o comando break irá terminar o loop mais interno. Por exemplo, se houver um for dentro de outro for e um condicional for atendido para executar um break, apenas o for mais interno será terminado, o for externo irá continuar e inclusive chamar uma nova iteração do for mais interno.\n",
    "Note que as linhas de código dentro do loop que sucedem um break não serão executadas."
   ]
  },
  {
   "cell_type": "code",
   "execution_count": 278,
   "metadata": {},
   "outputs": [
    {
     "name": "stdout",
     "output_type": "stream",
     "text": [
      "0\n",
      "1\n",
      "2\n",
      "3\n",
      "4\n",
      "5\n",
      "6\n",
      "7\n",
      "8\n",
      "9\n",
      "10\n"
     ]
    }
   ],
   "source": [
    "# mas pode-se fazer um loop infinito passando uma expressão que sempre retorne True\n",
    "# deve-se encontrar uma maneira de parar o loop com alguma expressão condicional\n",
    "# executando o comando break\n",
    "idx = 0\n",
    "while True:\n",
    "    print(idx)\n",
    "    \n",
    "    # checa se idx == 10\n",
    "    if idx == 10:\n",
    "        # sai do loop caso idx seja igual a 10\n",
    "        break\n",
    "        print('Esse print não será executado!')\n",
    "    idx += 1"
   ]
  },
  {
   "cell_type": "markdown",
   "metadata": {},
   "source": [
    "## 5. Declaração de Funções\n",
    "\n",
    "Em muitas situações é interessante definir funções customizadas para a realização de uma determinada tarefa. Em linhas gerais, é interessante definir uma função quando a tarefa em questão é executada mais de uma vez ao longo do código, ou quando o código para a execução da tarefa é longo, complexo e/ou disruptivo em relação ao contexto/código/tarefas em que ele é chamado. \n",
    "\n",
    "Por exemplo, digamos que para executar uma determinada tarefa seja necessário calcular o desvio padrão de uma lista de valores. Ao invés de colocar uma fórmula para cálculo de desvio padrão no meio do código, pode-se definir a priori uma função que realize este cálculo e chama-la sempre que for necessário. Mais conveniente ainda é reunir um conjunto de funções similares, digamos, funções para cálculo estatístico, em um módulo externo (que nada mais é do que um arquivo de texto contendo código python) e importar este módulo sempre que for necessário realizar cálculos estatísticos. No caso de cálculos estatísticos já existem módulos especializados para isso. No entanto, pode-se enfrentar situações em que as funções requeridas não estão implementadas em nenhum módulo externo, portanto é importante saber criar funções customizadas.\n",
    "\n",
    "### Arquitetura de uma Função\n",
    "\n",
    "De maneira geral, uma função é um conjunto de operações/comandos que produz um resultado bem definido a partir de uma entrada, ou de um conjunto de entradas. Deste modo, funções podem (ou não) receber parâmetros como argumentos e realizar operações e/ou executar comandos a partir daqueles argumentos para retornar o resultado desejado. As funções em python seguem a sintaxe:\n",
    "\n",
    "    def nome_da_funcao(argumentos):\n",
    "        # escopo da função\n",
    "        return some_variable\n",
    "É importante notar que a função termina com o comando return, onde se espera que seja passado a variável que se deseja retornar como resultado da função. No entanto, da mesma forma que uma função não precisa receber nenhum argumento de entrada, ela também não precisa retornar nenhum valor. O uso de return em uma função é opcional. Em alguns casos escrevemos funções para escrever um arquivo, imprimir dados, alterar varáveis globais, etc., não retornando nenhum valor.\n",
    "\n",
    "Vamos usar como exemplo o código já visto na seção de condicionais com múltiplas expressões e transforma-lo em uma função."
   ]
  },
  {
   "cell_type": "code",
   "execution_count": 195,
   "metadata": {
    "collapsed": true
   },
   "outputs": [],
   "source": [
    "# Pode se escolher um nome arbitrário para a função\n",
    "# neste caso, a nossa função recebe apenas um argumento, temp, e retorna uma string representando a cor\n",
    "def temp_2_color(temp):\n",
    "    # iremos copiar o código visto na seção anterior\n",
    "    # neste caso não precisamos definir a variável temp a priori, pois ela é uma variável local da função\n",
    "    if temp>50: cor = 'red'    \n",
    "    elif temp > 30: cor = 'yellow'        \n",
    "    elif temp > 10: cor = 'green'        \n",
    "    else: cor = 'blue'\n",
    "    # retorna uma string contendo a cor\n",
    "    return cor\n",
    "    # se o comando return for executado a função termina\n",
    "    print('isso não será impresso pois está depois do return da função...')\n",
    "        \n"
   ]
  },
  {
   "cell_type": "code",
   "execution_count": 196,
   "metadata": {},
   "outputs": [
    {
     "name": "stdout",
     "output_type": "stream",
     "text": [
      "yellow\n"
     ]
    }
   ],
   "source": [
    "# Note que executamos o código do bloco anterior e nada ocorreu\n",
    "\n",
    "# Para uma função ser executada é preciso chamar ela e passar argumentos válidos\n",
    "print(temp_2_color(43))"
   ]
  },
  {
   "cell_type": "code",
   "execution_count": 198,
   "metadata": {},
   "outputs": [
    {
     "ename": "TypeError",
     "evalue": "'>' not supported between instances of 'str' and 'int'",
     "output_type": "error",
     "traceback": [
      "\u001b[1;31m---------------------------------------------------------------------------\u001b[0m",
      "\u001b[1;31mTypeError\u001b[0m                                 Traceback (most recent call last)",
      "\u001b[1;32m<ipython-input-198-b2f413ce47f1>\u001b[0m in \u001b[0;36m<module>\u001b[1;34m()\u001b[0m\n\u001b[0;32m      2\u001b[0m \u001b[1;31m# Se passarmos um argumento não válido o código irá executar normalmente e a menos\u001b[0m\u001b[1;33m\u001b[0m\u001b[1;33m\u001b[0m\u001b[0m\n\u001b[0;32m      3\u001b[0m \u001b[1;31m# que haja uma operação inválida para o tipo de variável passada não haverá erros\u001b[0m\u001b[1;33m\u001b[0m\u001b[1;33m\u001b[0m\u001b[0m\n\u001b[1;32m----> 4\u001b[1;33m \u001b[0mprint\u001b[0m\u001b[1;33m(\u001b[0m\u001b[0mtemp_2_color\u001b[0m\u001b[1;33m(\u001b[0m\u001b[1;34m'isso deve dar erro'\u001b[0m\u001b[1;33m)\u001b[0m\u001b[1;33m)\u001b[0m\u001b[1;33m\u001b[0m\u001b[0m\n\u001b[0m\u001b[0;32m      5\u001b[0m \u001b[1;31m# no caso não é possível comparar uma string com um número, por isso um erro ocorreu\u001b[0m\u001b[1;33m\u001b[0m\u001b[1;33m\u001b[0m\u001b[0m\n",
      "\u001b[1;32m<ipython-input-195-7c418d2e132d>\u001b[0m in \u001b[0;36mtemp_2_color\u001b[1;34m(temp)\u001b[0m\n\u001b[0;32m      4\u001b[0m     \u001b[1;31m# iremos copiar o código visto na seção anterior\u001b[0m\u001b[1;33m\u001b[0m\u001b[1;33m\u001b[0m\u001b[0m\n\u001b[0;32m      5\u001b[0m     \u001b[1;31m# neste caso não precisamos definir a variável temp a priori, pois ela é uma variável local da função\u001b[0m\u001b[1;33m\u001b[0m\u001b[1;33m\u001b[0m\u001b[0m\n\u001b[1;32m----> 6\u001b[1;33m     \u001b[1;32mif\u001b[0m \u001b[0mtemp\u001b[0m\u001b[1;33m>\u001b[0m\u001b[1;36m50\u001b[0m\u001b[1;33m:\u001b[0m \u001b[0mcor\u001b[0m \u001b[1;33m=\u001b[0m \u001b[1;34m'red'\u001b[0m\u001b[1;33m\u001b[0m\u001b[0m\n\u001b[0m\u001b[0;32m      7\u001b[0m     \u001b[1;32melif\u001b[0m \u001b[0mtemp\u001b[0m \u001b[1;33m>\u001b[0m \u001b[1;36m30\u001b[0m\u001b[1;33m:\u001b[0m \u001b[0mcor\u001b[0m \u001b[1;33m=\u001b[0m \u001b[1;34m'yellow'\u001b[0m\u001b[1;33m\u001b[0m\u001b[0m\n\u001b[0;32m      8\u001b[0m     \u001b[1;32melif\u001b[0m \u001b[0mtemp\u001b[0m \u001b[1;33m>\u001b[0m \u001b[1;36m10\u001b[0m\u001b[1;33m:\u001b[0m \u001b[0mcor\u001b[0m \u001b[1;33m=\u001b[0m \u001b[1;34m'green'\u001b[0m\u001b[1;33m\u001b[0m\u001b[0m\n",
      "\u001b[1;31mTypeError\u001b[0m: '>' not supported between instances of 'str' and 'int'"
     ]
    }
   ],
   "source": [
    "# Note que não foi especificado o tipo do argumento de entrada\n",
    "# Se passarmos um argumento não válido o código irá executar normalmente e a menos\n",
    "# que haja uma operação inválida para o tipo de variável passada não haverá erros\n",
    "print(temp_2_color('isso deve dar erro'))\n",
    "\n",
    "# no caso não é possível comparar uma string com um número, por isso um erro ocorreu"
   ]
  },
  {
   "cell_type": "code",
   "execution_count": 206,
   "metadata": {
    "collapsed": true
   },
   "outputs": [],
   "source": [
    "# É sempre uma boa prática de programação documentar adequadamente as nossas funções\n",
    "# Isto é feito utilizando strings com triple quotes imediatamente abaixo da definição da função\n",
    "# Pode-se descrever brevemente a função, quais os argumentos de entrada (e os tipos de variáveis de cada um)\n",
    "# e qual a saída da função\n",
    "\n",
    "# Vamos definir uma função que recebe como argumento uma lista de valores e retorna uma tuple com o valor\n",
    "# médio da lista e o valor mínimo ou máximo, definido por um dos argumentos. Vamos especificar que como padrão\n",
    "# a função retorna o valor máximo, portanto se o usuário passar apenas um argumento (a lista com os valores) a\n",
    "# função irá retornar a média e o valor máximo\n",
    "\n",
    "def mean_max_or_min(iterable, max_or_min='max'): # Note que ao atribuir um valor para um argumento ele é passado como default\n",
    "    \n",
    "    # Triple quotes para definir a documentação da função. Este será o texto\n",
    "    # retornado ao chamar a função help com o nome da função como argumento\n",
    "    \"\"\"\n",
    "        mean_max_or_min: Função que retorna a média e o valor máximo ou mínimo de um iterável\n",
    "        \n",
    "        Argumentos:\n",
    "            iterable: pode ser uma lista, tuple ou set, com valores numéricos.\n",
    "            \n",
    "            max_or_min: string que define se a função irá retornar o valor máximo ou mínimo.\n",
    "                pode ser ou 'max' ou 'min', sendo que o padrão é 'max'. Se for passado um valor diferente\n",
    "                a função irá retornar o valor máximo.\n",
    "        Saída:\n",
    "            A função retorna uma tuple com a média e o valor máximo ou mínimo contido no iterável de entrada\n",
    "    \"\"\"\n",
    "    # cálculo da média =  somatório dos elementos dividido pelo número de elementos\n",
    "    mean = sum(iterable)/len(iterable)\n",
    "    \n",
    "    # em python já existem funções predefinidas que retornam o valor mínimo e o máximo de uma lista\n",
    "    # portanto, basta checar a string que foi passada no argumento min_or_max\n",
    "    if max_or_min=='min': return tuple((mean, min(iterable)))\n",
    "    \n",
    "    # caso max_or_min seja igual a qualquer outra coisa a função retorna o valor máximo\n",
    "    else: return tuple((mean, max(iterable)))"
   ]
  },
  {
   "cell_type": "code",
   "execution_count": 204,
   "metadata": {},
   "outputs": [
    {
     "name": "stdout",
     "output_type": "stream",
     "text": [
      "(5.7, 20)\n",
      "(5.7, 1)\n",
      "(5.7, 20)\n"
     ]
    }
   ],
   "source": [
    "# vamos testar a nossa função com uma lista de 10 elementos\n",
    "my_list = [2,4,5,6,1,10,20,5,2,2]\n",
    "\n",
    "# se não for passado um segundo argumento o default é o valor máximo\n",
    "print(mean_max_or_min(my_list))\n",
    "\n",
    "# para retornar o valor mínimo é necessário passar a string 'min'\n",
    "print(mean_max_or_min(my_list, 'min'))\n",
    "\n",
    "# se for passado qualquer outro valor para o segundo argumento a função retorará o valor máximo\n",
    "print(mean_max_or_min(my_list, 'blablablawhiscassache'))"
   ]
  },
  {
   "cell_type": "code",
   "execution_count": 208,
   "metadata": {},
   "outputs": [
    {
     "name": "stdout",
     "output_type": "stream",
     "text": [
      "Help on function mean_max_or_min in module __main__:\n",
      "\n",
      "mean_max_or_min(iterable, max_or_min='max')\n",
      "    mean_max_or_min: Função que retorna a média e o valor máximo ou mínimo de um iterável\n",
      "    Argumentos:\n",
      "        iterable: pode ser uma lista, tuple ou set, com valores numéricos.\n",
      "        \n",
      "        max_or_min: string que define se a função irá retornar o valor máximo ou mínimo.\n",
      "            pode ser ou 'max' ou 'min', sendo que o padrão é 'max'. Se for passado um valor diferente\n",
      "            a função irá retornar o valor máximo.\n",
      "    Saída:\n",
      "        A função retorna uma tuple com a média e o valor máximo ou mínimo contido no iterável de entrada\n",
      "\n"
     ]
    }
   ],
   "source": [
    "# em caso de dúvida sobre como usar a função podemos recorrer a documentação usando a função help\n",
    "help(mean_max_or_min)"
   ]
  },
  {
   "cell_type": "markdown",
   "metadata": {},
   "source": [
    "## 6. Indexação de Iteráveis\n",
    "\n",
    "Vimos como criar e quando usar diferentes tipos de iteráveis (listas, tuples, sets e dicionários) e também vimos como iterar por cada elemento de um iterável e ralizar operações a partir deles. No entanto é preciso saber como acessar elementos individuais de um iterável, ou como retornar apenas porções (slices) destes iteráveis, definidas por um intervalo de índices. \n",
    "\n",
    "Os conceitos vistos nesta seção serão aplicáveis em listas e tuples, no entanto pode-se estender a lógica para strings e outros tipos de iteráveis.\n",
    "\n",
    "### Trabalhando com Índices\n",
    "\n",
    "Todas as variáveis do tipo iterável ordenado armazenam os valores por meio de associação com índices. Em Python a indexação começa no índice 0. Deste modo o primeiro elemento de um iterável ordenado estará sempre no índice 0 e o último elemento estará sempre no índice correspondente ao tamanho do iterável menos 1 (len(iteravel) - 1). Para acessar os elementos correspondentes a um índice específico utilizamos a notação: iteravel[indice]. \n",
    "\n",
    "Para acessar um intervalo de valores compreendidos entre dois limites de índices (lo e up) usamos a seguinte sintaxe: iteravel[lo:up].\n",
    "\n",
    "Para acessar todos os elementos antes de um limite superior, ou todos os elementos depois de um limite inferior respectivamente, utiliza-se a seguinte sintaxe: iteravel[:up], iteravel[lo:]. O uso do caractere ':' indica um intervalo e se não for precedido, ou não for seguido de nada indica 'tudo antes' e 'tudo depois' respectivamente.\n",
    "\n",
    "Vale ressaltar que, similar ao visto para a função range, o limite superior de um intervalo de índices não é computado. Para compreender este fato vejamos um exemplo simples."
   ]
  },
  {
   "cell_type": "code",
   "execution_count": 279,
   "metadata": {},
   "outputs": [
    {
     "name": "stdout",
     "output_type": "stream",
     "text": [
      "0 9\n"
     ]
    }
   ],
   "source": [
    "# vamos definir uma lista com os números de 0 a 9\n",
    "my_list = list(range(10))\n",
    "\n",
    "# vamos imprimir o primeiro e o último elemento\n",
    "print(my_list[0], my_list[len(my_list)-1])\n",
    "\n",
    "# note que foi necessário utilizar o índice len(my_list)-1"
   ]
  },
  {
   "cell_type": "code",
   "execution_count": 280,
   "metadata": {},
   "outputs": [
    {
     "name": "stdout",
     "output_type": "stream",
     "text": [
      "9\n"
     ]
    }
   ],
   "source": [
    "# Uma maneira alternativa mais simples de obter o último elemento de um iterável\n",
    "# é o utilizando um índice negativo\n",
    "print(my_list[-1])\n",
    "\n",
    "# isto é possível pois o índice negativo começa do último elemento e vai \n",
    "# decrescendo até o primeiro elemento da lista"
   ]
  },
  {
   "cell_type": "code",
   "execution_count": 212,
   "metadata": {},
   "outputs": [
    {
     "name": "stdout",
     "output_type": "stream",
     "text": [
      "[2, 3, 4, 5, 6, 7, 8, 9]\n"
     ]
    }
   ],
   "source": [
    "# vamos imprimir um intervalo, do terceiro elemento até o último\n",
    "print(my_list[2:len(my_list)])\n",
    "\n",
    "# note que devido ao fato de em Python o índice começar em 0, o terceiro elemento é acessado pelo \n",
    "# índice 2\n",
    "# e como o limite superior do intervalo não é retornado, desta vez não usamos len(my_list)-1, e sim len(my_list)"
   ]
  },
  {
   "cell_type": "code",
   "execution_count": 213,
   "metadata": {},
   "outputs": [
    {
     "name": "stdout",
     "output_type": "stream",
     "text": [
      "[2, 3, 4, 5, 6, 7, 8, 9]\n"
     ]
    }
   ],
   "source": [
    "# Na prática, não é ncessáro especificar o limite superior ou o limite inferior do intervalo\n",
    "# quando estes valores correspondem ao último e ao primeiro índice\n",
    "# basta usar a notação 'lo:' e ':up'\n",
    "\n",
    "print(my_list[2:]) # note que o resultado é o mesmo"
   ]
  },
  {
   "cell_type": "code",
   "execution_count": 215,
   "metadata": {},
   "outputs": [
    {
     "name": "stdout",
     "output_type": "stream",
     "text": [
      "[0, 1, 2, 3]\n"
     ]
    }
   ],
   "source": [
    "# vamos retornar os quatro primeiros elementos\n",
    "print(my_list[:4])"
   ]
  },
  {
   "cell_type": "code",
   "execution_count": 217,
   "metadata": {},
   "outputs": [
    {
     "name": "stdout",
     "output_type": "stream",
     "text": [
      "4\n"
     ]
    }
   ],
   "source": [
    "# Note que o elemento de índice 4 não foi retornado no print anterior\n",
    "print(my_list[4])"
   ]
  },
  {
   "cell_type": "markdown",
   "metadata": {},
   "source": [
    "### Iterando pelos Índices em um Loop\n",
    "\n",
    "Uma maneira alternativa de acessar cada elemento contido em um iterável é iterando pelos índices do iterável em um loop, e passando os índices pela notação vista anteriormente. Esta abordagem é interessante quando se deseja modificar os elementos da lista.\n",
    "\n",
    "Vamos ver um exemplo em que se deseja modificar os elementos de uma lista caso eles sejam divisíveis por 3."
   ]
  },
  {
   "cell_type": "code",
   "execution_count": 219,
   "metadata": {},
   "outputs": [
    {
     "name": "stdout",
     "output_type": "stream",
     "text": [
      "102 é divisivel por 3\n",
      "108 é divisivel por 3\n",
      "114 é divisivel por 3\n",
      "120 é divisivel por 3\n",
      "126 é divisivel por 3\n",
      "132 é divisivel por 3\n",
      "138 é divisivel por 3\n",
      "144 é divisivel por 3\n",
      "150 é divisivel por 3\n",
      "156 é divisivel por 3\n",
      "162 é divisivel por 3\n",
      "168 é divisivel por 3\n",
      "174 é divisivel por 3\n",
      "180 é divisivel por 3\n",
      "186 é divisivel por 3\n",
      "192 é divisivel por 3\n",
      "198 é divisivel por 3\n",
      "204 é divisivel por 3\n",
      "210 é divisivel por 3\n",
      "216 é divisivel por 3\n",
      "222 é divisivel por 3\n",
      "228 é divisivel por 3\n",
      "234 é divisivel por 3\n",
      "240 é divisivel por 3\n",
      "246 é divisivel por 3\n",
      "252 é divisivel por 3\n",
      "258 é divisivel por 3\n",
      "264 é divisivel por 3\n",
      "270 é divisivel por 3\n",
      "276 é divisivel por 3\n",
      "282 é divisivel por 3\n",
      "288 é divisivel por 3\n",
      "294 é divisivel por 3\n",
      "300 é divisivel por 3\n"
     ]
    }
   ],
   "source": [
    "# vamos criar uma lista de 100 a 300 com elementos espaçados de 2 em 2\n",
    "my_list = list(range(100, 301, 2))\n",
    "\n",
    "# note que a lista de índices de um iterável pode ser criada a partir de um\n",
    "# um objeto tipo range da seguinte maneira: range(len(iteravel))\n",
    "for i in range(len(my_list)):\n",
    "    \n",
    "    # checa se o elemento da lista correspondente ao índice i é divisível por 3 (resto igual a 0)\n",
    "    if (my_list[i] % 3 == 0):\n",
    "        \n",
    "        # se for divisível por três, substitui o elemento por uma string\n",
    "        my_list[i] = str(my_list[i]) + ' é divisivel por 3'\n",
    "        \n",
    "        # imprime o valor\n",
    "        print(my_list[i])\n"
   ]
  },
  {
   "cell_type": "markdown",
   "metadata": {},
   "source": [
    "### Indexação de Strings\n",
    "\n",
    "Os mesmos conceitos vistos para a indexação de listas podem ser aplicados em strings. Uma string pode ser vista como uma sequência ordenada de caracteres, onde cada caractere está associado a uma posição definida por um índice. Podemos acessar elementos específicos ou intervalos de uma string utilizando a mesma lógica vista para listas.\n",
    "\n",
    "A seguir serão dados alguns exemplos práticos."
   ]
  },
  {
   "cell_type": "code",
   "execution_count": 220,
   "metadata": {},
   "outputs": [
    {
     "data": {
      "text/plain": [
       "12"
      ]
     },
     "execution_count": 220,
     "metadata": {},
     "output_type": "execute_result"
    }
   ],
   "source": [
    "# Vamos definir uma string qualquer\n",
    "my_str = \"Hello World!\"\n",
    "\n",
    "# nossa string tem len(my_string) elementos\n",
    "len(my_string)"
   ]
  },
  {
   "cell_type": "code",
   "execution_count": 221,
   "metadata": {},
   "outputs": [
    {
     "name": "stdout",
     "output_type": "stream",
     "text": [
      "H !\n"
     ]
    }
   ],
   "source": [
    "# vamos imprimir o primeiro e o último elemento\n",
    "print(my_str[0], my_str[11])"
   ]
  },
  {
   "cell_type": "code",
   "execution_count": 223,
   "metadata": {},
   "outputs": [
    {
     "name": "stdout",
     "output_type": "stream",
     "text": [
      "Hello\n",
      "World!\n"
     ]
    }
   ],
   "source": [
    "# imprimir Hello e depois World! na segunda linha\n",
    "print(my_string[:5])\n",
    "print(my_string[6:])"
   ]
  },
  {
   "cell_type": "markdown",
   "metadata": {},
   "source": [
    "## 7. Manipulação de Strings\n",
    "\n",
    "Existem diversos métodos disponíveis para a manipulação de strings em python. Dentre as principais funcionalidades e os métodos associados se destacam os seguintes:\n",
    "\n",
    "* split() - Separação de strings. Para separar strings com base em um delimitador definível (um espaço, \" \", traço, undeline, caractere especial, etc.), armazenando os elementos resultantes em uma lista\n",
    "* join() - Junta strings armazenadas como elementos de uma lista em uma única string.\n",
    "* replace() - Substitui as ocorrências de uma sub-string em uma string pelo valor desejado.\n",
    "* find() - Encontra uma sub-string, passada como argumento, na string em que o método é chamado. Retorna o índice correspondente à primeira ocorrência, ou -1 caso não seja encontrado.\n",
    "* upper() - Retorna a versão capitalizada da string (converte para letras maiúsculas).\n",
    "* lower() - Retorna a versão não-capitalizada da string (converte para letras minúsculas).\n",
    "* format() - Permite a inserção de variáveis em locais específicos de uma string.\n",
    "\n",
    "É importante notar que, diferentemente de funções, todas estas funcionalidades estão implementadas como métodos aplicáveis em variáveis do tipo string, portanto é necessário utilizar a notação apropriada: string.método(argumentos). \n",
    "\n",
    "Para obter uma lista completa dos métodos disponíveis para strings basta usar o comando dir e passar como argumento uma string. Para obter informações sobre um método específico use a função help.\n"
   ]
  },
  {
   "cell_type": "code",
   "execution_count": 228,
   "metadata": {},
   "outputs": [
    {
     "name": "stdout",
     "output_type": "stream",
     "text": [
      "['essa', 'string', 'possui', 'varias', 'palavras', 'separadas', 'por', 'espaço']\n"
     ]
    }
   ],
   "source": [
    "# Vamos começar usando o método split para criar uma lista de palavras\n",
    "my_string = 'essa string possui varias palavras separadas por espaço'\n",
    "\n",
    "# por default o separador é um espaço, \" \", mas veremos como utilizar qualquer caractere ou string como spearador\n",
    "my_list=my_string.split()\n",
    "\n",
    "print(my_list)"
   ]
  },
  {
   "cell_type": "code",
   "execution_count": 232,
   "metadata": {},
   "outputs": [
    {
     "name": "stdout",
     "output_type": "stream",
     "text": [
      "essa-.-string-.-possui-.-varias-.-palavras-.-separadas-.-por-.-espaço\n"
     ]
    }
   ],
   "source": [
    "# se quisermos juntar os elementos da lista em uma string, mas ao invés de espaço\n",
    "# usar '-.-' como separador podemos usar o método join na string separadora\n",
    "new_string = '-.-'.join(my_list)\n",
    "\n",
    "print(new_string)"
   ]
  },
  {
   "cell_type": "code",
   "execution_count": 234,
   "metadata": {},
   "outputs": [
    {
     "name": "stdout",
     "output_type": "stream",
     "text": [
      "essa-.-string-.-possui-.-varias-.-palavras-.-separadas-.-por-.-'-.-'\n"
     ]
    }
   ],
   "source": [
    "# Esta frase não ficou consistente, podemos corrigi-la utilizando o método replace\n",
    "# vamos substituir a sub-string 'espaço' pela sub-string \"'-.-'\" e atualizar o valor da new_string\n",
    "new_string = new_string.replace('espaço', \"'-.-'\")\n",
    "\n",
    "print(new_string)"
   ]
  },
  {
   "cell_type": "code",
   "execution_count": 238,
   "metadata": {},
   "outputs": [
    {
     "name": "stdout",
     "output_type": "stream",
     "text": [
      "12\n",
      "p\n"
     ]
    }
   ],
   "source": [
    "# se quisermos buscar um caractere/palavra ou sub-string em uma string\n",
    "# podemos usar o método find\n",
    "# Este método retorna o valor do índice que aponta para a sub-string buscada\n",
    "\n",
    "# vamos procurar a posição da palavra 'possui' na nossa string original\n",
    "idx = my_string.find('possui')\n",
    "print(idx)\n",
    "\n",
    "# note que este índice corresponde à letra p\n",
    "print(my_string[idx])"
   ]
  },
  {
   "cell_type": "code",
   "execution_count": 241,
   "metadata": {},
   "outputs": [
    {
     "name": "stdout",
     "output_type": "stream",
     "text": [
      "A palavra digitada não existe na string...\n"
     ]
    }
   ],
   "source": [
    "# Se não houver nenhuma ocorrência da sub-string buscada o método find\n",
    "# irá retornar -1, portanto pode-se criar uma expressão condicional para\n",
    "# verificar se existe uma determinada sub-string na string de interesse\n",
    "if my_string.find(\"Possui\")>=0:\n",
    "    print('Palavra encontrada!')\n",
    "else:\n",
    "    print('A palavra digitada não existe na string...')\n",
    "    \n",
    "# note que python é sensível a capitalização, portanto \"Possui\" é diferente de \"possui\""
   ]
  },
  {
   "cell_type": "code",
   "execution_count": 281,
   "metadata": {},
   "outputs": [
    {
     "name": "stdout",
     "output_type": "stream",
     "text": [
      "ESSA STRING ESTÁ CHEIA DE LETRAS MAIUSCULAS E MINUSCULAS ALTERNADAS!\n",
      "essa string está cheia de letras maiusculas e minusculas alternadas!\n",
      "Essa String Está Cheia de Letras MaiUsculas e miNusCulas AlTerNadas!\n"
     ]
    }
   ],
   "source": [
    "# para evitar erros associados a capitalização de letras é conveniente\n",
    "# converter uma string inteira para letras maiúsculas ou minúsculas, usando\n",
    "# os métodos upper e lower respectivamente\n",
    "my_string = \"Essa String Está Cheia de Letras MaiUsculas e miNusCulas AlTerNadas!\"\n",
    "\n",
    "print(my_string.upper())\n",
    "print(my_string.lower())\n",
    "\n",
    "# note que o método não altera a string original, e sim retorna uma nova string que, se necessário\n",
    "# pode ser armazenada em uma variável\n",
    "print(my_string)"
   ]
  },
  {
   "cell_type": "code",
   "execution_count": 245,
   "metadata": {},
   "outputs": [
    {
     "name": "stdout",
     "output_type": "stream",
     "text": [
      "['__add__', '__class__', '__contains__', '__delattr__', '__dir__', '__doc__', '__eq__', '__format__', '__ge__', '__getattribute__', '__getitem__', '__getnewargs__', '__gt__', '__hash__', '__init__', '__init_subclass__', '__iter__', '__le__', '__len__', '__lt__', '__mod__', '__mul__', '__ne__', '__new__', '__reduce__', '__reduce_ex__', '__repr__', '__rmod__', '__rmul__', '__setattr__', '__sizeof__', '__str__', '__subclasshook__', 'capitalize', 'casefold', 'center', 'count', 'encode', 'endswith', 'expandtabs', 'find', 'format', 'format_map', 'index', 'isalnum', 'isalpha', 'isdecimal', 'isdigit', 'isidentifier', 'islower', 'isnumeric', 'isprintable', 'isspace', 'istitle', 'isupper', 'join', 'ljust', 'lower', 'lstrip', 'maketrans', 'partition', 'replace', 'rfind', 'rindex', 'rjust', 'rpartition', 'rsplit', 'rstrip', 'split', 'splitlines', 'startswith', 'strip', 'swapcase', 'title', 'translate', 'upper', 'zfill']\n"
     ]
    }
   ],
   "source": [
    "# Existem vários outros métodos aplicáveis à strings\n",
    "print(dir(\"\"))"
   ]
  },
  {
   "cell_type": "code",
   "execution_count": 268,
   "metadata": {},
   "outputs": [
    {
     "name": "stdout",
     "output_type": "stream",
     "text": [
      "Help on built-in function isalpha:\n",
      "\n",
      "isalpha(...) method of builtins.str instance\n",
      "    S.isalpha() -> bool\n",
      "    \n",
      "    Return True if all characters in S are alphabetic\n",
      "    and there is at least one character in S, False otherwise.\n",
      "\n"
     ]
    }
   ],
   "source": [
    "# Vários destes métodos retornam booleanos, indicando uma determinada condição\n",
    "# por exemplo, o método isalpha checa se a string contém apenas letras do alfabeto\n",
    "help(\"\".isalpha)"
   ]
  },
  {
   "cell_type": "markdown",
   "metadata": {},
   "source": [
    "### Representando Variáveis em uma String - Método format\n",
    "\n",
    "Para escrever valores de variáveis em posições específicas de uma string pode-se usar o método format. Deve-se colocar place-holders, '{}', nas posições em que se deseja passar o valor de uma variável. Os exemplos a seguir mostram como usar este método."
   ]
  },
  {
   "cell_type": "code",
   "execution_count": 282,
   "metadata": {},
   "outputs": [
    {
     "name": "stdout",
     "output_type": "stream",
     "text": [
      "Olá, meu nome é Felipe. Tenho 25 anos e 1.74 m de altura\n"
     ]
    }
   ],
   "source": [
    "# vamos declarar algumas variáveis de diferentes tipos\n",
    "idade = 25\n",
    "altura = 1.74\n",
    "nome = 'Felipe'\n",
    "\n",
    "# Vamos passar estas variáveis para uma string de apresentação usando o método format\n",
    "apresentação = \"Olá, meu nome é {}. Tenho {} anos e {} m de altura\".format(nome, idade, altura)\n",
    "\n",
    "# note que foram passadas 3 variáveis, portanto é necessário colocar 3 place-holders ('{}') na string\n",
    "\n",
    "# format é um método de string, portanto ele deve ser aplicado sobre uma string, utilizando a notação objeto.metodo()\n",
    "print(apresentação)"
   ]
  },
  {
   "cell_type": "code",
   "execution_count": null,
   "metadata": {
    "collapsed": true
   },
   "outputs": [],
   "source": [
    "# é importante notar que o método format aceita variáveis numéricas, convertendo-as\n",
    "# em string automaticamente\n",
    "\n",
    "# E se tivermos as mesmas informações em um dicionário?\n",
    "my_dict = {'nome':'Felipe', 'idade':25, 'altura':1.74}\n",
    "\n",
    "# Exercício: tente reproduzir o texto de apresentação extraíndo as informações do dicionário my_dict"
   ]
  },
  {
   "cell_type": "markdown",
   "metadata": {},
   "source": [
    "## 8. Manipulação de Arquivos\n",
    "\n",
    "A capacidade de abrir, ler e escrever arquivos de texto é muito importante e em python estas tarefas podem ser facilmente realizadas pelo uso da função open. A função open recebe como argumento o nome do arquivo e a forma como que se deseja abrir o arquivo, sendo tipicamente um dos seguintes valores:\n",
    "\n",
    "* 'r' - Somente leitura\n",
    "* 'w' - Somente escrita, reescrevendo por cima de um arquivo existente, ou criando um novo um arquivo com o nome especificado não exista.\n",
    "* 'a' - Append, escreve ao final de um arquivo já existente.\n",
    "* 'r+' e 'w+' - Leitura e escrita, com leitura preferencial e escrita preferencial respectivamente.\n",
    "\n",
    "Também existem opções para a leitura e escrita de arquivos binários, no entanto este é considerado um tópico mais avançado e não será abordado neste treinamento.\n",
    "\n",
    "A função open retorna um objeto do tipo arquivo e pelo uso de métodos apropriados é possível ler o seu conteúdo para uma variável ou escrever strings no arquivo especificado.\n",
    "\n",
    "Para os exemplos desta seção iremos utilizar o arquivo 'my_file.txt'. É importante que o arquivo esteja presente no diretório deste notebook, caso contrário o código irá resultar em erros, a menos que o diretório completo do arquivo seja especificado na função open. "
   ]
  },
  {
   "cell_type": "markdown",
   "metadata": {},
   "source": [
    "### Diretório dos Arquivos \n",
    "\n",
    "É muito importante que o nome do arquivo que se deseja abrir esteja especificado adequadamente. Se o arquivo estiver em um diretório diferente da pasta do programa de python que o estiver lendo, é necessário especificar o diretório completo no nome do arquivo. Para especificar o diretório completo é necessário usar RAW Strings, adicionando o prefixo 'r' na definição da string, caso contrário os caracteres especiais '\\' presentes na especificação do diretório irão ocasionar erros.\n",
    "\n",
    "Uma maneira de verificar se o arquivo de interesse está na mesma pasta do programa em python que será escrito para abri-lo é utilizando a função 'listdir' do módulo 'os'. Para isso é necessário importar o módulo."
   ]
  },
  {
   "cell_type": "code",
   "execution_count": 252,
   "metadata": {},
   "outputs": [
    {
     "name": "stdout",
     "output_type": "stream",
     "text": [
      "['.ipynb_checkpoints', 'Introdução.ipynb', 'my_file.txt']\n"
     ]
    }
   ],
   "source": [
    "# vamos importar o módulo os para verificar os arquivos existentes no diretório do projeto\n",
    "import os\n",
    "\n",
    "# basta imprimir o retorno da função listdir\n",
    "print(os.listdir())\n",
    "\n",
    "# Note que 'listdir' não é uma função nativa da biblioteca padrão de python, portanto, a menos\n",
    "# que ela seja importada de 'os' (from os import listdir), é necessário chama-la como um método do módulo 'os'\n",
    "# fazendo uso da notação: modulo.funcao()"
   ]
  },
  {
   "cell_type": "code",
   "execution_count": 253,
   "metadata": {
    "collapsed": true
   },
   "outputs": [],
   "source": [
    "# Se o print acima não retornou a string 'my_file.txt' como um dos elementos da lista\n",
    "# o código a seguir não irá funcionar! Coloque o arquivo 'my_file.txt' no diretório do projeto\n",
    "# antes de continuar"
   ]
  },
  {
   "cell_type": "code",
   "execution_count": 258,
   "metadata": {},
   "outputs": [
    {
     "name": "stdout",
     "output_type": "stream",
     "text": [
      "Este arquivo contém alguns parâmetros de especificação de wafer maps\n",
      "Os dados a seguir foram extraídos de um arquivo .MAP\n",
      "Algumas das informações são importantes para caracterizar um wafer map\n",
      "<IBIS_WAFER_DATA>\n",
      "<HEADER>\n",
      "<WAFER_OCR_ID>5-5212-11B5</WAFER_OCR_ID>\n",
      "<WAFER_UNITS>MMT</WAFER_UNITS>\n",
      "<WAFER_SIZE>200</WAFER_SIZE>\n",
      "<XSTEP>0.79</XSTEP>\n",
      "<YSTEP>0.69</YSTEP>\n",
      "<ROW_COUNT>289</ROW_COUNT>\n",
      "<COLUMN_COUNT>253</COLUMN_COUNT>\n",
      "<FLAT_LOCATION>0</FLAT_LOCATION>\n",
      "<FLAT_TYPE>N</FLAT_TYPE>\n",
      "<BIN_CODE PASS=\"1\" FAIL=\"X\" REF=\"R\" OUTSIDE=\".\" SKIPDIE=\":\" PICKED=\"@\"></BIN_CODE>\n",
      "<BIN_COUNT_PASS>51287</BIN_COUNT_PASS>\n",
      "</HEADER>\n"
     ]
    }
   ],
   "source": [
    "# Sempre que um arquivo é aberto ele deve ser fechado depois que os trabalhos sobre ele forem concluídos\n",
    "\n",
    "# Para evitar a necessidade de usar o método close() para fechar o arquivo explicitamente,\n",
    "# podemos usar o construtor with\n",
    "\n",
    "# Vamos então abrir o arquivo 'my_file.txt' em um objeto de arquivo chamado f (pode ser qualquer nome)\n",
    "# usando a função open no modo read only ('r')\n",
    "with open('my_file.txt', 'r') as f:\n",
    "    # agora podemos acessar os métodos relativos a objetos do tipo arquivo (io.TextIOWrapper é o tipo)\n",
    "    \n",
    "    # descomente os prints a seguir para ver o tipo do objeto f e a lista de métodos disponíveis\n",
    "    #print(type(f))\n",
    "    #print(dir(f))\n",
    "    \n",
    "    # podemos ler todo o conteúdo para uma variável tipo string usando o método read\n",
    "    content = f.read()\n",
    "\n",
    "# Ao sair do with o arquivo é automaticamente fechado\n",
    "# podemos então imprimir o seu conteúdo\n",
    "print(content)"
   ]
  },
  {
   "cell_type": "code",
   "execution_count": 262,
   "metadata": {},
   "outputs": [
    {
     "name": "stdout",
     "output_type": "stream",
     "text": [
      "Este arquivo contém alguns parâmetros de especificação de wafer maps\n",
      "Os dados a seguir foram extraídos de um arquivo .MAP\n",
      "Algumas das informações são importantes para caracterizar um wafer map\n",
      "<IBIS_WAFER_DATA>\n",
      "<HEADER>\n",
      "<WAFER_OCR_ID>5-5212-11B5</WAFER_OCR_ID>\n",
      "<WAFER_UNITS>MMT</WAFER_UNITS>\n",
      "<WAFER_SIZE>200</WAFER_SIZE>\n",
      "<XSTEP>0.79</XSTEP>\n",
      "<YSTEP>0.69</YSTEP>\n",
      "<ROW_COUNT>289</ROW_COUNT>\n",
      "<COLUMN_COUNT>253</COLUMN_COUNT>\n",
      "<FLAT_LOCATION>0</FLAT_LOCATION>\n",
      "<FLAT_TYPE>N</FLAT_TYPE>\n",
      "<BIN_CODE PASS=\"P\" FAIL=\"X\" REF=\"R\" OUTSIDE=\".\" SKIPDIE=\":\" PICKED=\"@\"></BIN_CODE>\n",
      "<BIN_COUNT_PASS>51287</BIN_COUNT_PASS>\n",
      "</HEADER>\n"
     ]
    }
   ],
   "source": [
    "# Vamos utilizar o que já aprendemos sobre manipulação de strings para modificar alguns parâmetros e\n",
    "# grava-los em um novo arquivo de texto\n",
    "\n",
    "# Utilizando o método replace podemos realizar substiuições\n",
    "# Vamos modificar o bin code de PASS de \"1\" para \"P\"\n",
    "# Note que é preciso escapar o carctere '\"', por isso usamos '\\' antes\n",
    "content = content.replace(\"PASS=\\\"1\\\"\",\"PASS=\\\"P\\\"\")\n",
    "print(content)"
   ]
  },
  {
   "cell_type": "code",
   "execution_count": 263,
   "metadata": {
    "collapsed": true
   },
   "outputs": [],
   "source": [
    "# Exercício:\n",
    "# Tente modificar mais algum parâmetro antes de salvar o novo arquivo\n",
    "# Por exemplo, tente mudar o XSTEP de 0.79 para 0.81\n",
    "\n",
    "# Agora vamos escrever a variável content em um novo arquivo com o nome definido na variável new_file\n",
    "new_file = 'new_file.txt'\n",
    "with open(new_file, 'w') as f:\n",
    "    f.write(content)\n",
    "\n",
    "# de maneira similar, usamos o construtor with associado com a função open, porém no modo escrita ('w')\n",
    "# e ao invés de usar o método 'read' usamos o método 'write'"
   ]
  },
  {
   "cell_type": "code",
   "execution_count": 265,
   "metadata": {},
   "outputs": [
    {
     "name": "stdout",
     "output_type": "stream",
     "text": [
      "['.ipynb_checkpoints', 'Introdução.ipynb', 'my_file.txt', 'new_file.txt']\n"
     ]
    }
   ],
   "source": [
    "# podemos conferir que o arquivo foi gerado usando a função os.listdir\n",
    "print(os.listdir())\n",
    "\n",
    "# se formos no diretório do projeto e abrirmos o arquivo new_file.txt veremos que\n",
    "# de fato ele foi escrito corretamente"
   ]
  },
  {
   "cell_type": "markdown",
   "metadata": {},
   "source": [
    "## 9. Módulos, Pacotes e Bibliotecas Externas\n",
    "\n",
    "A biblioteca padrão em Python, contendo as funcionalidades que exploramos até agora, é bastante poderosa e de fato é possível realizar muitas tarefas utilizando apenas ela. No entanto, existem inúmeras bibliotecas externas com funções e métodos prontos, adequados para a realização de praticamente qualquer tarefa computacional que se possa imaginar. Uma das grandes vantagens de Python é a ampla disponibilidade de módulos externos, que permitem a expansão das funcionalidades da linguagem para um universo de infinitas possibilidades. Os termos módulo, pacote e biblioteca podem ser usados como sinônimos, no entanto pode-se fazer a distinção da seguinte maneira:\n",
    "\n",
    "* Módulos: termo geral que engloba qualquer código contento classes, objetos e/ou funções auxiliares que podem ser importados para a execução de tarefas em um programa.\n",
    "* Bibliotecas: são os módulos nativos ou oficiais da linguagem, listados no site oficial do Python.\n",
    "* Pacotes: são os módulos desenvolvidos por terceiros que ainda não estão listados na documentação oficial do Python.\n",
    "\n",
    "Durante o curso os três termos serão usados de maneira intercambiável, representando a mesma coisa.\n",
    "\n",
    "Antes de começar qualquer projeto de programação é importante pesquisar quais módulos podem ser úteis para a execução das tarefas desejadas. Muitas vezes a solução que buscamos já foi implementada e está disponível em algum módulo externo. Veremos que a instalação e o uso destes módulos é uma tarefa muito simples e muitas vezes os pacotes que precisamos já estão instalados e disponíveis para uso. A grande vantagem da instalação do Python pela distribuição Anaconda é que praticamente todos os módulos que poderíamos precisar já estão instalados.\n",
    "\n",
    "Nesta seção será abordado os seguintes tópicos:\n",
    "* Instalação de módulos externos usando pip install\n",
    "* Importação de código para uso em nossos programas\n",
    "* Lista de principais módulos e suas funcionalidades\n",
    "\n",
    "\n"
   ]
  },
  {
   "cell_type": "markdown",
   "metadata": {},
   "source": [
    "### Instalando Módulos Externos\n",
    "\n",
    "Supomos que você tem uma tarefa de programação e a princípio não sabe como resolve-la. A primeira coisa a fazer é pesquisar por módulos que podem te auxiliar na sua tarefa. A comunidade de programadores brasileiro, apesar de significativa, não é tão grande quanto a comunidade internacional que se comunica em inglês, por isso realizar buscas e fazer perguntas em inglês é muito mais efetivo. Digamos que após a realização de uma pesquisa você concluiu que o módulo PyQt5 é o mais adequado para a implementação do programa com interface gráfica que você está desenvolvendo. O próximo passo é buscar por um download do módulo na internet e fazer a instalação, certo? \n",
    "\n",
    "Errado. Se você está usando Python com a distribuição Anaconda já existe uma grande chance deste módulo já estar instalado. A maneira mais fácil de verificar se um módulo está instalado é tentando importar ele com o comando: import nome_do_modulo. Se não houver erros ele deve estar instalado. Se houver um erro, pode ser que o nome do módulo não foi digitado corretamente. \n",
    "\n",
    "É possível ver a lista de módulos instalados usando a função help e passando a string 'modules' como argumento. Vamos ver quais módulos já estão instalados (este comando pode demorar alguns minutos para executar e listar alguns avisos, relativos a módulos desatualizados).\n",
    "\n",
    "Se o módulo desejado não estiver na lista, podemos então prosseguir com a instalação. Hora de buscar os arquivos na internet, fazer o download e instalar, certo? Não. Na maioria das vezes é muito mais simples do que isso. Basta abrir o terminal de comando do windows (ou o equivalente no mac ou linux) na pasta 'Scripts' no diretório da instalação do Python (Anaconda3) e digitar o comando: pip install nome_do_modulo_a_ser_instalado. É importante obter o nome 'oficial' do módulo, reconhecido pelo comando pip. Na dúvida pergunte para o google como instalar o módulo desejado usando pip. O comando irá buscar automaticamente pela última versão do módulo, baixar e instalar todas as dependências.\n",
    "\n",
    "Alguns módulos não estão disponíveis para instalação com o comando pip. Neste caso é necessário pesquisar pelas instruções específicas de instalação do módulo."
   ]
  },
  {
   "cell_type": "code",
   "execution_count": 283,
   "metadata": {},
   "outputs": [
    {
     "name": "stdout",
     "output_type": "stream",
     "text": [
      "\n",
      "Please wait a moment while I gather a list of all available modules...\n",
      "\n"
     ]
    },
    {
     "name": "stderr",
     "output_type": "stream",
     "text": [
      "C:\\Users\\40000438\\AppData\\Local\\Continuum\\Anaconda3\\lib\\site-packages\\IPython\\kernel\\__init__.py:13: ShimWarning: The `IPython.kernel` package has been deprecated since IPython 4.0.You should import from ipykernel or jupyter_client instead.\n",
      "  \"You should import from ipykernel or jupyter_client instead.\", ShimWarning)\n",
      "C:\\Users\\40000438\\AppData\\Local\\Continuum\\Anaconda3\\lib\\site-packages\\odo\\backends\\pandas.py:94: FutureWarning: pandas.tslib is deprecated and will be removed in a future version.\n",
      "You can access NaTType as type(pandas.NaT)\n",
      "  @convert.register((pd.Timestamp, pd.Timedelta), (pd.tslib.NaTType, type(None)))\n",
      "C:\\Users\\40000438\\AppData\\Local\\Continuum\\Anaconda3\\lib\\site-packages\\blaze\\server\\server.py:17: ExtDeprecationWarning: Importing flask.ext.cors is deprecated, use flask_cors instead.\n",
      "  from flask.ext.cors import cross_origin\n",
      "C:\\Users\\40000438\\AppData\\Local\\Continuum\\Anaconda3\\lib\\site-packages\\bokeh\\util\\deprecation.py:34: BokehDeprecationWarning: MPL compatibility can no longer be successfully maintained, and is now deprecated. All MPL compat functions will be removed completely on the release of Bokeh 1.0. See http://bokeh.pydata.org/en/latest/docs/releases/0.12.5.html for more information\n",
      "  warn(message)\n",
      "C:\\Users\\40000438\\AppData\\Local\\Continuum\\Anaconda3\\lib\\site-packages\\IPython\\html.py:14: ShimWarning: The `IPython.html` package has been deprecated since IPython 4.0. You should import from `notebook` instead. `IPython.html.widgets` has moved to `ipywidgets`.\n",
      "  \"`IPython.html.widgets` has moved to `ipywidgets`.\", ShimWarning)\n",
      "C:\\Users\\40000438\\AppData\\Local\\Continuum\\Anaconda3\\lib\\site-packages\\IPython\\utils\\traitlets.py:5: UserWarning: IPython.utils.traitlets has moved to a top-level traitlets package.\n",
      "  warn(\"IPython.utils.traitlets has moved to a top-level traitlets package.\")\n",
      "C:\\Users\\40000438\\AppData\\Local\\Continuum\\Anaconda3\\lib\\site-packages\\matplotlib\\cbook.py:136: MatplotlibDeprecationWarning: The matplotlib.delaunay module was deprecated in version 1.4. Use matplotlib.tri.Triangulation instead.\n",
      "  warnings.warn(message, mplDeprecation, stacklevel=1)\n",
      "C:\\Users\\40000438\\AppData\\Local\\Continuum\\Anaconda3\\lib\\site-packages\\nltk\\twitter\\__init__.py:20: UserWarning: The twython library has not been installed. Some functionality from the twitter package will not be available.\n",
      "  warnings.warn(\"The twython library has not been installed. \"\n"
     ]
    },
    {
     "data": {
      "application/javascript": [
       "window.genUID = function() {\n",
       "    return 'xxxxxxxx-xxxx-4xxx-yxxx-xxxxxxxxxxxx'.replace(/[xy]/g, function(c) {\n",
       "        var r = Math.random()*16|0, v = c == 'x' ? r : (r&0x3|0x8);\n",
       "        return v.toString(16);\n",
       "    });\n",
       "};\n",
       "\n",
       "var IPYTHON_VERSION = '3';\n",
       "\n",
       "require([\"widgets/js/widget\", \"widgets/js/manager\"], function (widget, manager) {\n",
       "    if (!('DOMWidgetView' in widget)) {\n",
       "\n",
       "        // we're in IPython2, things moved a bit from 2 --> 3.\n",
       "        // construct the expected IPython3 widget API\n",
       "        IPYTHON_VERSION = '2';\n",
       "        manager = {WidgetManager: widget};\n",
       "        widget = {DOMWidgetView: IPython.DOMWidgetView};\n",
       "    }\n",
       "\n",
       "    var GraphView = widget.DOMWidgetView.extend({\n",
       "        render: function(){\n",
       "            var that = this;\n",
       "\n",
       "            var graphId = window.genUID();\n",
       "            var loadingId = 'loading-'+graphId;\n",
       "\n",
       "\n",
       "            var _graph_url = that.model.get('_graph_url');\n",
       "\n",
       "            // variable plotlyDomain in the case of enterprise\n",
       "            var url_parts = _graph_url.split('/');\n",
       "            var plotlyDomain = url_parts[0] + '//' + url_parts[2];\n",
       "\n",
       "            if(!('plotlyDomains' in window)){\n",
       "                window.plotlyDomains = {};\n",
       "            }\n",
       "            window.plotlyDomains[graphId] = plotlyDomain;\n",
       "\n",
       "            // Place IFrame in output cell div `$el`\n",
       "            that.$el.css('width', '100%');\n",
       "            that.$graph = $(['<iframe id=\"'+graphId+'\"',\n",
       "                             'src=\"'+_graph_url+'.embed\"',\n",
       "                             'seamless',\n",
       "                             'style=\"border: none;\"',\n",
       "                             'width=\"100%\"',\n",
       "                             'height=\"600\">',\n",
       "                             '</iframe>'].join(' '));\n",
       "            that.$graph.appendTo(that.$el);\n",
       "\n",
       "            that.$loading = $('<div id=\"'+loadingId+'\">Initializing...</div>')\n",
       "                            .appendTo(that.$el);\n",
       "\n",
       "            // for some reason the 'width' is being changed in IPython 3.0.0\n",
       "            // for the containing `div` element. There's a flicker here, but\n",
       "            // I was unable to fix it otherwise.\n",
       "            setTimeout(function ()  {\n",
       "                if (IPYTHON_VERSION === '3') {\n",
       "                    $('#' + graphId)[0].parentElement.style.width = '100%';\n",
       "                }\n",
       "            }, 500);\n",
       "\n",
       "            // initialize communication with the iframe\n",
       "            if(!('pingers' in window)){\n",
       "                window.pingers = {};\n",
       "            }\n",
       "\n",
       "            window.pingers[graphId] = setInterval(function() {\n",
       "                that.graphContentWindow = $('#'+graphId)[0].contentWindow;\n",
       "                that.graphContentWindow.postMessage({task: 'ping'}, plotlyDomain);\n",
       "            }, 200);\n",
       "\n",
       "            // Assign a message listener to the 'message' events\n",
       "            // from iframe's postMessage protocol.\n",
       "            // Filter the messages by iframe src so that the right message\n",
       "            // gets passed to the right widget\n",
       "            if(!('messageListeners' in window)){\n",
       "                 window.messageListeners = {};\n",
       "            }\n",
       "\n",
       "            window.messageListeners[graphId] = function(e) {\n",
       "                if(_graph_url.indexOf(e.origin)>-1) {\n",
       "                    var frame = document.getElementById(graphId);\n",
       "\n",
       "                    if(frame === null){\n",
       "                        // frame doesn't exist in the dom anymore, clean up it's old event listener\n",
       "                        window.removeEventListener('message', window.messageListeners[graphId]);\n",
       "                        clearInterval(window.pingers[graphId]);\n",
       "                    } else if(frame.contentWindow === e.source) {\n",
       "                        // TODO: Stop event propagation, so each frame doesn't listen and filter\n",
       "                        var frameContentWindow = $('#'+graphId)[0].contentWindow;\n",
       "                        var message = e.data;\n",
       "\n",
       "                        if('pong' in message && message.pong) {\n",
       "                            $('#loading-'+graphId).hide();\n",
       "                            clearInterval(window.pingers[graphId]);\n",
       "                            that.send({event: 'pong', graphId: graphId});\n",
       "                        } else if (message.type==='hover' ||\n",
       "                                   message.type==='zoom'  ||\n",
       "                                   message.type==='click' ||\n",
       "                                   message.type==='unhover') {\n",
       "\n",
       "                            // click and hover events contain all of the data in the traces,\n",
       "                            // which can be a very large object and may take a ton of time\n",
       "                            // to pass to the python backend. Strip out the data, and require\n",
       "                            // the user to call get_figure if they need trace information\n",
       "                            if(message.type !== 'zoom') {\n",
       "                                for(var i in message.points) {\n",
       "                                    delete message.points[i].data;\n",
       "                                    delete message.points[i].fullData;\n",
       "                                }\n",
       "                            }\n",
       "                            that.send({event: message.type, message: message, graphId: graphId});\n",
       "                        } else if (message.task === 'getAttributes') {\n",
       "                            that.send({event: 'getAttributes', response: message.response});\n",
       "                        }\n",
       "                    }\n",
       "                }\n",
       "            };\n",
       "\n",
       "            window.removeEventListener('message', window.messageListeners[graphId]);\n",
       "            window.addEventListener('message', window.messageListeners[graphId]);\n",
       "\n",
       "        },\n",
       "\n",
       "        update: function() {\n",
       "            // Listen for messages from the graph widget in python\n",
       "            var jmessage = this.model.get('_message');\n",
       "            var message = JSON.parse(jmessage);\n",
       "\n",
       "            // check for duplicate messages\n",
       "            if(!('messageIds' in window)){\n",
       "                window.messageIds = {};\n",
       "            }\n",
       "\n",
       "            if(!(message.uid in window.messageIds)){\n",
       "                // message hasn't been received yet, do stuff\n",
       "                window.messageIds[message.uid] = true;\n",
       "\n",
       "                if (message.fadeTo) {\n",
       "                    this.fadeTo(message);\n",
       "                } else {\n",
       "                    var plot = $('#' + message.graphId)[0].contentWindow;\n",
       "                    plot.postMessage(message, window.plotlyDomains[message.graphId]);\n",
       "                }\n",
       "            }\n",
       "\n",
       "            return GraphView.__super__.update.apply(this);\n",
       "        },\n",
       "\n",
       "        /**\n",
       "         * Wrapper for jquery's `fadeTo` function.\n",
       "         *\n",
       "         * @param message Contains the id we need to find the element.\n",
       "         */\n",
       "        fadeTo: function (message) {\n",
       "            var plot = $('#' + message.graphId);\n",
       "            plot.fadeTo(message.duration, message.opacity);\n",
       "        }\n",
       "    });\n",
       "\n",
       "    // Register the GraphView with the widget manager.\n",
       "    manager.WidgetManager.register_widget_view('GraphView', GraphView);\n",
       "\n",
       "});\n",
       "\n",
       "//@ sourceURL=graphWidget.js\n"
      ],
      "text/plain": [
       "<IPython.core.display.Javascript object>"
      ]
     },
     "metadata": {},
     "output_type": "display_data"
    },
    {
     "name": "stderr",
     "output_type": "stream",
     "text": [
      "C:\\Users\\40000438\\AppData\\Local\\Continuum\\Anaconda3\\lib\\site-packages\\skimage\\viewer\\utils\\core.py:10: UserWarning:\n",
      "\n",
      "Recommended matplotlib backend is `Agg` for full skimage.viewer functionality.\n",
      "\n",
      "C:\\Users\\40000438\\AppData\\Local\\Continuum\\Anaconda3\\lib\\site-packages\\qtawesome\\iconic_font.py:268: UserWarning:\n",
      "\n",
      "You need to have a running QApplication to use QtAwesome!\n",
      "\n",
      "C:\\Users\\40000438\\AppData\\Local\\Continuum\\Anaconda3\\lib\\site-packages\\statsmodels\\compat\\pandas.py:56: FutureWarning:\n",
      "\n",
      "The pandas.core.datetools module is deprecated and will be removed in a future version. Please use the pandas.tseries module instead.\n",
      "\n"
     ]
    },
    {
     "name": "stdout",
     "output_type": "stream",
     "text": [
      "pdfviewer using PyPDF2\n",
      "pdfviewer using wx.GraphicsContext\n"
     ]
    },
    {
     "name": "stderr",
     "output_type": "stream",
     "text": [
      "C:\\Users\\40000438\\AppData\\Local\\Continuum\\Anaconda3\\lib\\site-packages\\setuptools-27.2.0-py3.6.egg\\setuptools\\msvc.py:287: DeprecationWarning:\n",
      "\n",
      "invalid escape sequence \\c\n",
      "\n",
      "C:\\Users\\40000438\\AppData\\Local\\Continuum\\Anaconda3\\lib\\site-packages\\setuptools-27.2.0-py3.6.egg\\setuptools\\msvc.py:309: DeprecationWarning:\n",
      "\n",
      "invalid escape sequence \\c\n",
      "\n",
      "C:\\Users\\40000438\\AppData\\Local\\Continuum\\Anaconda3\\lib\\site-packages\\setuptools-27.2.0-py3.6.egg\\setuptools\\msvc.py:287: DeprecationWarning:\n",
      "\n",
      "invalid escape sequence \\c\n",
      "\n",
      "C:\\Users\\40000438\\AppData\\Local\\Continuum\\Anaconda3\\lib\\site-packages\\setuptools-27.2.0-py3.6.egg\\setuptools\\msvc.py:309: DeprecationWarning:\n",
      "\n",
      "invalid escape sequence \\c\n",
      "\n",
      "C:\\Users\\40000438\\AppData\\Local\\Continuum\\Anaconda3\\lib\\importlib\\_bootstrap.py:205: ImportWarning:\n",
      "\n",
      "can't resolve package from __spec__ or __package__, falling back on __name__ and __path__\n",
      "\n",
      "C:\\Users\\40000438\\AppData\\Local\\Continuum\\Anaconda3\\lib\\site-packages\\Sphinx-1.5.6-py3.6.egg\\sphinx\\search\\__init__.py:60: DeprecationWarning:\n",
      "\n",
      "Flags not at the start of the expression \\w+(?u)\n",
      "\n"
     ]
    },
    {
     "name": "stdout",
     "output_type": "stream",
     "text": [
      "Crypto              cloudpickle         mpl_toolkits        spyder\n",
      "Cython              clyent              mpmath              spyder_breakpoints\n",
      "IPython             cmath               msgpack             spyder_io_dcm\n",
      "OleFileIO_PL        cmd                 msilib              spyder_io_hdf5\n",
      "OpenGL              code                msvcrt              spyder_profiler\n",
      "OpenSSL             codecs              multipledispatch    spyder_pylint\n",
      "PIL                 codeop              multiprocessing     sqlalchemy\n",
      "PyPDF2              collections         navigator_updater   sqlite3\n",
      "PyQt5               colorama            nbconvert           sre_compile\n",
      "__future__          colorsys            nbformat            sre_constants\n",
      "_ast                commctrl            netbios             sre_parse\n",
      "_asyncio            compileall          netrc               ssl\n",
      "_bisect             comtypes            networkx            sspi\n",
      "_blake2             concurrent          nltk                sspicon\n",
      "_bootlocale         conda               nntplib             stat\n",
      "_bz2                conda_env           nose                statistics\n",
      "_cffi_backend       configparser        notebook            statsmodels\n",
      "_codecs             contextlib          nt                  stdf\n",
      "_codecs_cn          contextlib2         ntpath              storemagic\n",
      "_codecs_hk          copy                ntsecuritycon       string\n",
      "_codecs_iso2022     copyreg             nturl2path          stringprep\n",
      "_codecs_jp          crypt               numba               struct\n",
      "_codecs_kr          cryptography        numbers             subprocess\n",
      "_codecs_tw          csv                 numexpr             sunau\n",
      "_collections        ctypes              numpy               symbol\n",
      "_collections_abc    curl                numpydoc            sympy\n",
      "_compat_pickle      curses              odbc                sympyprinting\n",
      "_compression        cv2                 odo                 symtable\n",
      "_csv                cwp                 olefile             sys\n",
      "_ctypes             cx_Freeze           opcode              sysconfig\n",
      "_ctypes_test        cycler              openpyxl            tables\n",
      "_datetime           cython              operator            tabnanny\n",
      "_decimal            cythonmagic         optparse            tarfile\n",
      "_dummy_thread       cytoolz             ordered_set         tblib\n",
      "_elementtree        dask                os                  telnetlib\n",
      "_functools          datashape           packaging           tempfile\n",
      "_hashlib            datetime            pandas              test\n",
      "_heapq              dateutil            pandocfilters       test_path\n",
      "_imp                dbi                 parser              test_pycosat\n",
      "_io                 dbm                 partd               testpath\n",
      "_json               dde                 path                tests\n",
      "_license            decimal             pathlib             textwrap\n",
      "_locale             decorator           pathlib2            this\n",
      "_lsprof             difflib             patsy               threading\n",
      "_lzma               dill                pdb                 time\n",
      "_markupbase         dis                 pdfminer            timeit\n",
      "_md5                distributed         pep8                timer\n",
      "_msi                distutils           perfmon             tkinter\n",
      "_multibytecodec     doctest             pickle              tlz\n",
      "_multiprocessing    docutils            pickleshare         token\n",
      "_nsis               dummy_threading     pickletools         tokenize\n",
      "_opcode             easy_install        pip                 toolz\n",
      "_operator           email               pipes               tornado\n",
      "_osx_support        encodings           pkg_resources       trace\n",
      "_overlapped         ensurepip           pkgutil             traceback\n",
      "_pickle             entrypoints         platform            tracemalloc\n",
      "_pydecimal          enum                plistlib            traitlets\n",
      "_pyio               errno               plotly              tty\n",
      "_pytest             et_xmlfile          ply                 turtle\n",
      "_random             fastcache           poplib              turtledemo\n",
      "_sha1               faulthandler        posixpath           types\n",
      "_sha256             filecmp             pprint              typing\n",
      "_sha3               fileinput           profile             unicodecsv\n",
      "_sha512             flake8              prompt_toolkit      unicodedata\n",
      "_signal             flake8_docstrings   pstats              unittest\n",
      "_sitebuiltins       flake8_polyfill     psutil              urllib\n",
      "_socket             flask               pty                 uu\n",
      "_sqlite3            flask_cors          py                  uuid\n",
      "_sre                fnmatch             pyHook              venv\n",
      "_ssl                folium              py_compile          warnings\n",
      "_stat               formatter           pyclbr              wave\n",
      "_string             fractions           pycodestyle         wcwidth\n",
      "_strptime           ftplib              pycosat             weakref\n",
      "_struct             functools           pycparser           webbrowser\n",
      "_symtable           gc                  pycurl              werkzeug\n",
      "_system_path        genericpath         pydoc               wheel\n",
      "_testbuffer         geopy               pydoc_data          widgetsnbextension\n",
      "_testcapi           getopt              pydocstyle          win2kras\n",
      "_testconsole        getpass             pyexpat             win32api\n",
      "_testimportmultiple gettext             pyflakes            win32clipboard\n",
      "_testmultiphase     gevent              pygments            win32com\n",
      "_thread             glob                pylab               win32con\n",
      "_threading_local    glue                pylatex             win32console\n",
      "_tkinter            glue_vispy_viewers  pylint              win32cred\n",
      "_tracemalloc        greenlet            pyodbc              win32crypt\n",
      "_warnings           gzip                pyparsing           win32cryptcon\n",
      "_weakref            h5py                pyreadline          win32event\n",
      "_weakrefset         hashlib             pystdf              win32evtlog\n",
      "_win32sysloader     heapdict            pytest              win32evtlogutil\n",
      "_winapi             heapq               pythoncom           win32file\n",
      "_winxptheme         hmac                pytz                win32gui\n",
      "abc                 html                pywin               win32gui_struct\n",
      "adodbapi            html5lib            pywin32_testutil    win32help\n",
      "afxres              http                pywintypes          win32inet\n",
      "aifc                idlelib             pywt                win32inetcon\n",
      "alabaster           idna                pyximport           win32job\n",
      "anaconda_navigator  imagesize           qtawesome           win32lz\n",
      "anaconda_project    imaplib             qtconsole           win32net\n",
      "antigravity         imghdr              qtpy                win32netcon\n",
      "argparse            imp                 queue               win32pdh\n",
      "array               importlib           quopri              win32pdhquery\n",
      "asn1crypto          inspect             random              win32pdhutil\n",
      "ast                 io                  rasutil             win32pipe\n",
      "astroid             ipaddress           re                  win32print\n",
      "astropy             ipykernel           readline            win32process\n",
      "asynchat            ipykernel_launcher  regcheck            win32profile\n",
      "asyncio             ipython_genutils    regutil             win32ras\n",
      "asyncore            ipywidgets          reprlib             win32rcparser\n",
      "atexit              isapi               requests            win32security\n",
      "audioop             isort               rlcompleter         win32service\n",
      "autoreload          itertools           rmagic              win32serviceutil\n",
      "babel               itsdangerous        rope                win32timezone\n",
      "backports           jdcal               ruamel_yaml         win32trace\n",
      "base64              jedi                run                 win32traceutil\n",
      "bdb                 jinja2              runpy               win32transaction\n",
      "binascii            json                sched               win32ts\n",
      "binhex              jsonschema          scipy               win32ui\n",
      "binstar_client      jupyter             scripts             win32uiole\n",
      "bisect              jupyter_client      seaborn             win32verstamp\n",
      "bitarray            jupyter_console     secrets             win32wnet\n",
      "blaze               jupyter_core        select              win_unicode_console\n",
      "bleach              keyword             selectors           winerror\n",
      "bokeh               lazy_object_proxy   selenium            winioctlcon\n",
      "boto                lib2to3             servicemanager      winnt\n",
      "bottleneck          linecache           setuptools          winperf\n",
      "brain_builtin_inference llvmlite            shelve              winreg\n",
      "brain_dateutil      locale              shlex               winsound\n",
      "brain_gi            locket              shutil              winxpgui\n",
      "brain_mechanize     logging             signal              winxptheme\n",
      "brain_nose          lxml                simplegeneric       wrapt\n",
      "brain_numpy         lzma                singledispatch      wsgiref\n",
      "brain_pytest        macpath             singledispatch_helpers wx\n",
      "brain_qt            macurl2path         sip                 xdrlib\n",
      "brain_six           mailbox             sipconfig           xlrd\n",
      "brain_ssl           mailcap             sipdistutils        xlsxwriter\n",
      "brain_stdlib        markupsafe          site                xlwings\n",
      "branca              marshal             six                 xlwt\n",
      "bs4                 math                skimage             xml\n",
      "builtins            matplotlib          sklearn             xmlrpc\n",
      "bz2                 mccabe              smtpd               xxsubtype\n",
      "cProfile            menuinst            smtplib             yaml\n",
      "calendar            mimetypes           sndhdr              zict\n",
      "cffi                mistune             snowballstemmer     zipapp\n",
      "cgi                 mkl                 socket              zipfile\n",
      "cgitb               mmap                socketserver        zipimport\n",
      "chardet             mmapfile            sortedcollections   zlib\n",
      "chunk               mmsystem            sortedcontainers    zmq\n",
      "click               modulefinder        sphinx              \n",
      "\n",
      "Enter any module name to get more help.  Or, type \"modules spam\" to search\n",
      "for modules whose name or summary contain the string \"spam\".\n",
      "\n"
     ]
    }
   ],
   "source": [
    "# Vamos ver a lista de módulos instalados\n",
    "help('modules')\n",
    "\n",
    "# note que já temos muitos módulos instalados e se toda vez que formos escrever um programa\n",
    "# realizarmos a importação de todos eles o nosso código ficaria muito pesado"
   ]
  },
  {
   "cell_type": "markdown",
   "metadata": {},
   "source": [
    "### Importando e Usando Módulos\n",
    "\n",
    "Tipicamente os módulos necessários para a execução de um programa são importados logo no começo do script, ou seja, são as primeiras linhas de código em um programa. É importante notar que a importação de módulos está associada a um custo computacional e dependendo do numero de imports e dos pacotes utilizados o programa poderá ficar pesado e demorar para rodar. Por este motivo é imperativo que se importe apenas os módulos que forem de fato utilizados, e para obter a melhor performance possível é recomendável que se importe apenas as funções ou porções específicas do módulo que estiverem sendo usadas. Isto ficará claro após alguns exemplos."
   ]
  },
  {
   "cell_type": "code",
   "execution_count": 285,
   "metadata": {
    "collapsed": true
   },
   "outputs": [],
   "source": [
    "# Vamos importar o módulo numpy\n",
    "import numpy\n",
    "\n",
    "# Pronto, é simples assim!"
   ]
  },
  {
   "cell_type": "code",
   "execution_count": 286,
   "metadata": {
    "collapsed": true
   },
   "outputs": [],
   "source": [
    "# Por convenção, especificamente o módulo numpy é importado com um nome diferente\n",
    "# Isso é feito por brevidade de código, pois como veremos no próximo curso, o módulo numpy\n",
    "# é utilizado frequentemente, portanto ao invés de ter que escrever numpy.random.randon, ou numpy.ones, numpy.mean\n",
    "# etc, é conveniente escrever np.ones, np.mean\n",
    "# Por isso importamos numpy como np. Você pode escolher o nome que quiser, mas esta é a convenção para este módulo\n",
    "import numpy as np"
   ]
  },
  {
   "cell_type": "code",
   "execution_count": 287,
   "metadata": {},
   "outputs": [
    {
     "name": "stdout",
     "output_type": "stream",
     "text": [
      "[ 20.55250044  34.86494427  29.81850651  34.25002413  26.59353265\n",
      "  30.01687686  21.12994279  25.87342586  36.24516522  20.95975955\n",
      "  34.54329229  26.14727569  30.52373353  16.6102053   34.34752894\n",
      "  19.32201611  31.7450334   28.48673773  21.30527804  28.37763713]\n"
     ]
    }
   ],
   "source": [
    "# Se quisermos chamar qualquer função, objeto, método ou classe contida no módulo temos que usar a notação\n",
    "# np.nome_da_função_que_se_deseja_usar\n",
    "# por exemplo, vamos gerar 20 números aleatórios com distribuição normal, com média 30 e variância 5\n",
    "rnd_normal = np.random.randn(20)*5+30\n",
    "\n",
    "print(rnd_normal)\n",
    "\n",
    "# note que random é uma classe contida em numpy (pode-se pensar na classe como um conjunto de funções)\n",
    "# e randn é uma função contida nesta classe que retorna números aleatórios de 0 a 1 com distribuição normal\n",
    "# somando a média desejada e multiplicando pela variância tem-se o resultado desejado"
   ]
  },
  {
   "cell_type": "code",
   "execution_count": 288,
   "metadata": {
    "collapsed": true
   },
   "outputs": [],
   "source": [
    "# Se você deseja usar apenas uma função contida no módulo, e não quer ter que digitar np.random.randn toda\n",
    "# vez que precisar usar ela, você pode importar a função diretamente usando a notação:\n",
    "# from nome_do_modulo import nome_da_função\n",
    "from numpy.random import randn\n",
    "\n",
    "# note que como a função desejada está contida dentro do 'sub-modulo' random\n",
    "# é necessário especificar que estamos importando a função dele\n",
    "# se digitarmos: from numpy import randn haverá um erro"
   ]
  },
  {
   "cell_type": "code",
   "execution_count": 289,
   "metadata": {},
   "outputs": [
    {
     "name": "stdout",
     "output_type": "stream",
     "text": [
      "[-3.03341194 -0.83748252  1.18775236  0.10608119  0.57956379 -0.02602189\n",
      " -0.86680707 -0.54640328  0.44217363  0.01942778]\n"
     ]
    }
   ],
   "source": [
    "# agora podemos usar a função desejada diretamente\n",
    "\n",
    "print(randn(10))"
   ]
  },
  {
   "cell_type": "code",
   "execution_count": 310,
   "metadata": {},
   "outputs": [
    {
     "name": "stdout",
     "output_type": "stream",
     "text": [
      "[-0.05030383  0.15184442 -2.31216537  0.92725832 -0.20387954 -0.74582219\n",
      "  1.73532395 -0.57214679 -0.82848769 -0.99517677]\n"
     ]
    },
    {
     "data": {
      "image/png": "[encoded data removed]",
      "text/plain": [
       "<matplotlib.figure.Figure at 0x2054f8d0>"
      ]
     },
     "metadata": {},
     "output_type": "display_data"
    }
   ],
   "source": [
    "# Se não quisermos ter que digitar randn toda vez podemos importar com um outro nome\n",
    "from numpy.random import randn as rnd\n",
    "\n",
    "print(rnd(10))\n",
    "\n",
    "# outro exemplo\n",
    "from matplotlib.pyplot import hist, show\n",
    "\n",
    "# podemos plotar um histograma com os valores aleatórios gerados\n",
    "hist(rnd(100), bins=20)\n",
    "show()"
   ]
  },
  {
   "cell_type": "code",
   "execution_count": 293,
   "metadata": {},
   "outputs": [
    {
     "name": "stdout",
     "output_type": "stream",
     "text": [
      "[[ 1.  1.  1.  1.]\n",
      " [ 1.  1.  1.  1.]\n",
      " [ 1.  1.  1.  1.]]\n",
      "[[ 0.  0.  0.  0.  0.]\n",
      " [ 0.  0.  0.  0.  0.]]\n"
     ]
    }
   ],
   "source": [
    "# Digamos que existem 2 funções no módulo numpy que iremos usar\n",
    "# podemos importar as duas simultaneamente da seguinte maneira\n",
    "from numpy import ones, zeros\n",
    "\n",
    "print(ones((3,4)))\n",
    "print(zeros((2,5)))"
   ]
  },
  {
   "cell_type": "code",
   "execution_count": 302,
   "metadata": {},
   "outputs": [
    {
     "name": "stdout",
     "output_type": "stream",
     "text": [
      "[-0.63031801 -0.38207512  0.2640805   1.9703187  -0.23245257  1.67891109\n",
      "  0.38425385 -2.35078441  0.24589248  1.09723994]\n",
      "[[ 1.  1.  1.  1.  1.]\n",
      " [ 1.  1.  1.  1.  1.]]\n",
      "27.585670821\n"
     ]
    }
   ],
   "source": [
    "# Se quisermos importar todas as funções de um determinado módulo\n",
    "# podemos fazer isso usando o caractere especial '*'\n",
    "from numpy import *\n",
    "\n",
    "# deste modo todas as classes e sub-modulos contidos em numpy foram importados e para\n",
    "# usa-los não é necessário digitar numpy.nome_da_função toda vez\n",
    "\n",
    "print(random.randn(10))\n",
    "print(ones((2,5)))\n",
    "print(mean(rnd_normal))"
   ]
  },
  {
   "cell_type": "code",
   "execution_count": 305,
   "metadata": {
    "collapsed": true
   },
   "outputs": [],
   "source": [
    "# lembrando que para listar todos as funções/classes/métodos em um módulo basta usar\n",
    "# a função dir() e para obter informações sobre uma função específica podemos usar a função help\n",
    "# note que é necessário importar o módulo para usar dir, mas podemos usar a função help e ler\n",
    "# a documentação do módulo, passando como argumento uma string com o nome do módulo"
   ]
  },
  {
   "cell_type": "markdown",
   "metadata": {},
   "source": [
    "### Lista de Módulos Importantes\n",
    "\n",
    "A seguir é dada uma lista de módulos importantes para a realização de diversas funcionalidades. Note que nem todos os módulos estão disponíveis na instalação padrão da distribuição Anaconda. Também é importante notar que o nome para importação do módulo em um programa pode ser diferente. Pesquise por tutoriais e verifique a documentação do módulo antes de usá-lo.\n",
    "\n",
    "#### Numpy:\n",
    "\n",
    "Numpy é o principal módulo para computação numérica em Python, contendo um tipo de objeto vetorial que permite a criação e manipulação de vetores e matrizes N-dimensionais de maneira extremamente rápida e eficiente. Contém praticamente todas as funções matemáticas básicas, incluindo funções trigonométricas, métodos para álgebra linear, transformada de Fourier e geração de números aleatórios. Numpy é possivelmente o módulo externo mais importante para análise, manipulação de dados e matemática computacional.\n",
    "\n",
    "#### Matplotlib, Seaborn, Bokeh e Plotly:\n",
    "\n",
    "Módulos para visualização de gráficos. Matplotlib é o pacote padrão para lidar com gráficos 2D e realiza, basicamente, as mesmas funcionalidades gráficas do software MATLAB. Seaborn é escrito a partir de matplotlib e expande suas funcionalidades permitindo a criação de gráficos complexos e atrativos em poucas linhas de código. Bokeh e Plotly geram gráficos iterativos em formato HTML, rodando em um web browser.\n",
    "\n",
    "#### Pandas:\n",
    "\n",
    "Pandas é um módulo que facilita enormemente a manipulação de dados estruturados, tendo um objeto tipo dataframe que funciona como uma tabela. Existem uma série de funções e métodos que permitem a importação e a exportação de dados em uma variedade de formatos (CSV, Excel, JSON, Texto, etc). O pacote também conta com funções estatísticas básicas que podem ser implementadas diretamente nos objetos de dados, facilitando a realização de análises exploratórias rápidas.\n",
    "\n",
    "#### SciPy:\n",
    "\n",
    "Conta com sub-módulos para análise estatística, implementação de métodos para manipulação de sinais, análise de sistemas dinâmicos lineares, métodos para realização de convolução, correlação, transformada de Fourier, entre diversas outras funções. Também possui um sub-módulo para leitura e gravação de áudio.\n",
    "\n",
    "#### Statsmodels:\n",
    "\n",
    "Biblioteca especializada em métodos e modelos estatísticos. É mais completa que o sub-módulo 'stats' da biblioteca SciPy.\n",
    "\n",
    "#### SymPy:\n",
    "\n",
    "Módulo para realização de matemática simbólica, permitindo a solução de sistemas lineares, solução de equações diferenciais, cálculo de limites, derivada, integral, etc.\n",
    "\n",
    "#### SciKit-learn, TensorFlow e Keras:\n",
    "\n",
    "Módulos especializados na implementação de algorítimos para machine-learning e inteligência artificial. Scikit-learn contém os métodos mais utilizados. TensorFlow e Keras são especializados em redes neurais e deep-learning.\n",
    "\n",
    "#### SQLite3, PyMsSQL, SQLAlchemy e Peewee:\n",
    "\n",
    "Módulos para a criação e manipulação de databases em SQL (Structured Querry Language). Permite a conexão com databases existentes, iteração com softwares especializados e realização de queries em linguagem SQL.\n",
    "\n",
    "#### Datetime e Arrow:\n",
    "\n",
    "Datetime é a biblioteca padrão em Python para lidar com datas e horário e Arrow é um novo módulo que simplifica estas operações.\n",
    "\n",
    "#### Os e Shutil:\n",
    "\n",
    "Os permite lidar com dependências funcionais do sistema operacionais, incluindo a manipulação de diretórios, leitura de nomes de arquivos e pastas. Útil para obter os nomes dos arquivos em uma pasta, buscar por arquivos com uma extensão específica ou renomear arquivos. Com o módulo shutil é possível copiar e deletar arquivos.\n",
    "\n",
    "#### Sh: \n",
    "\n",
    "Permite a chamada e a execução de comandos de qualquer programa externo, retornando os resultados para um programa em python.\n",
    "\n",
    "#### Cython: \n",
    "\n",
    "Aumenta a performance (velocidade de execução) do código Python compilando ele em linguagem C.\n",
    "\n",
    "#### Python-docx e xlsxWriter: \n",
    "\n",
    "Módulos para criação e manipulação de arquivos .docx e .xlsx, do Microsoft Word e Excel respectivamente.\n",
    "\n",
    "#### Pillow e PIL: \n",
    "\n",
    "Módulos para manipulação e processamento de imagens. PIL é a biblioteca padrão e Pillow uma atualização que permite a execução das mesmas funcionalidades (e outras mais) de maneira simplificada.\n",
    "\n",
    "#### OpenCV: \n",
    "\n",
    "Biblioteca escrita em C++ com inúmeras funções, métodos e modelos para manipulação, processamento de imagens e implementação de algoritmos de detecção de padrões e visão computacional. Módulo extremamente poderoso e completo, porém, de uso complexo.\n",
    "\n",
    "#### Tkinter, PyQt, WxPython e Gooey: \n",
    "\n",
    "Bibliotecas para a criação de programas com interface fráfica (GUI - Graphical User Interface). Tkinter, PyQt e WxPython são concorrentes, tendo basicamente as mesmas funcionalidades, e Gooey é especialmente recomendado para a conversão de programas baseados em terminal de comando para GUIs equivalentes. \n",
    "\n",
    "#### Py2exe, CxFreeze e PyInstaller: \n",
    "\n",
    "Utilizadas para a criação de aplicações stand-alone, para que o programa desenvolvido rode em qualquer computador sem a necessidade de ter o Python instalado.\n",
    "\n",
    "#### Nose e PyTest: \n",
    "\n",
    "Utilizadas para teste de programas.\n",
    "\n",
    "#### Requests, Beautiful Soup, Selenium e Scrapy:\n",
    "\n",
    "Requests é o módulo padrão para abrir páginas da web. Beautifoul Soup permite a aquisição do código HTML de uma página de maneira organizada e a busca e extração de dados relativos as tags contidas no código HTML. Selenium permite a iteração com sites (web driver) e Scrapy facilita a aquisição de dados em formatos e estruturas específicas (buscar e copiar todas os arquivos com um determinado formato em um site). Estas ferramentas podem ser utilizadas em conjunto para realizar tarefas de web-scrapping complexas.\n",
    "\n",
    "#### Flask e Django: \n",
    "\n",
    "Frameworks para o desenvolvimento de sites e aplicações na web. Django é recomendável para projetos maiores e Flask é utilizado para desenvolver pequenos projetos rapidamente.\n",
    "\n",
    "#### PyGame, Pyglet e Panda3D: \n",
    "\n",
    "Pacotes para criação de jogos e interface multimídia com áudio e vídeo. Panda3D é o módulo mais complexo, possibilitando a criação de jogos 3D.\n",
    "\n",
    "Para maiores detalhes pesquisar pela documentação específica do módulo. Em geral, todos os módulos apresentados possuem diversos tutoriais e uma ampla comunidade de usuários dispostos a ajudar e responder perguntas. O melhor site para sanar dúvidas de programação é o StackOverflow.\n"
   ]
  },
  {
   "cell_type": "markdown",
   "metadata": {},
   "source": [
    "### Exercícios:\n",
    "\n",
    "É importante praticar os conceitos aprendidos, por isso foram desenvolvidos exercícios que requerem a aplicação de boa parte das funcionalidades vistas ao longo do curso. Os problemas aqui propostos são relativamente simples e podem ser resolvidos com poucas linhas de código.\n",
    "1. Foi gerado um arquivo 'measurements.csv' com resultados de medidas de um determinado processo de fabricação. A medição realizada diz respeito a tensão de threshold de transistores do tipo n-MOSFET, que deve estar entre 0.65V e 0.75V. Crie um programa que conta o número de medidas fora do intervalo especificado e imprime a porcentagem de medidas acima do limite superior (0.75) e abaixo do limite inferior (0.65). Dica: você pode usar o método split para converter uma string em lista, lembrando que o caractere que separa linhas é o \"\\n\". Desafio, tente resolver em 8 linhas ou menos.\n",
    "2. Baseados nos dados da questão anterior, crie um programa que gera um arquivo .csv com duas colunas, uma correspondente aos valores medidos, e outra contendo dois valores possíveis de string: 'PASS', caso os valores das medidas estejam dentro do intervalo aceitável (0.65 a 0.75) e 'FAIL', caso não estejam. Desafio, tente resolver em 7 linhas ou menos.\n",
    "3. Modifique o programa da questão 1 para ser uma função que recebe como entrada o nome do arquivo contendo as medidas e retorna um tuple com a porcentagem (em float) de valores abaixo do limite inferior e acima do limite superior."
   ]
  }
 ],
 "metadata": {
  "kernelspec": {
   "display_name": "Python 3",
   "language": "python",
   "name": "python3"
  },
  "language_info": {
   "codemirror_mode": {
    "name": "ipython",
    "version": 3
   },
   "file_extension": ".py",
   "mimetype": "text/x-python",
   "name": "python",
   "nbconvert_exporter": "python",
   "pygments_lexer": "ipython3",
   "version": "3.6.1"
  }
 },
 "nbformat": 4,
 "nbformat_minor": 2
}
